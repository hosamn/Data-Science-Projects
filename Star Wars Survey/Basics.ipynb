{
 "cells": [
  {
   "cell_type": "markdown",
   "metadata": {
    "collapsed": true
   },
   "source": [
    "# Star Wars Survey\n",
    "\n",
    "### Do people realize that “The Empire Strikes Back” is clearly the best of the bunch?\n",
    "\n",
    "[similar](https://github.com/dataquestio/solutions/blob/master/Mission201Solution.ipynb), \n",
    "[more](https://github.com/fivethirtyeight/data/tree/master/star-wars-survey)"
   ]
  },
  {
   "cell_type": "code",
   "execution_count": 1,
   "metadata": {
    "collapsed": true
   },
   "outputs": [],
   "source": [
    "import pandas as pd\n",
    "import numpy as np\n",
    "\n",
    "import matplotlib.pyplot as plt\n",
    "import seaborn as sns\n",
    "%matplotlib inline"
   ]
  },
  {
   "cell_type": "code",
   "execution_count": 6,
   "metadata": {
    "collapsed": false
   },
   "outputs": [
    {
     "data": {
      "text/plain": [
       "(1187, 38)"
      ]
     },
     "execution_count": 6,
     "metadata": {},
     "output_type": "execute_result"
    }
   ],
   "source": [
    "lnk = 'https://raw.githubusercontent.com/fivethirtyeight/data/master/star-wars-survey/StarWars.csv'\n",
    "df = pd.read_csv(lnk, encoding='Latin')\n",
    "\n",
    "df.shape\n",
    "# df.columns\n",
    "# df.info()\n",
    "# df.iloc[[5]]"
   ]
  },
  {
   "cell_type": "code",
   "execution_count": 3,
   "metadata": {
    "collapsed": false
   },
   "outputs": [
    {
     "data": {
      "text/html": [
       "<div>\n",
       "<style scoped>\n",
       "    .dataframe tbody tr th:only-of-type {\n",
       "        vertical-align: middle;\n",
       "    }\n",
       "\n",
       "    .dataframe tbody tr th {\n",
       "        vertical-align: top;\n",
       "    }\n",
       "\n",
       "    .dataframe thead th {\n",
       "        text-align: right;\n",
       "    }\n",
       "</style>\n",
       "<table border=\"1\" class=\"dataframe\">\n",
       "  <thead>\n",
       "    <tr style=\"text-align: right;\">\n",
       "      <th></th>\n",
       "      <th>RespondentID</th>\n",
       "      <th>Have you seen any of the 6 films in the Star Wars franchise?</th>\n",
       "      <th>Do you consider yourself to be a fan of the Star Wars film franchise?</th>\n",
       "      <th>Which of the following Star Wars films have you seen? Please select all that apply.</th>\n",
       "      <th>Unnamed: 4</th>\n",
       "      <th>Unnamed: 5</th>\n",
       "      <th>Unnamed: 6</th>\n",
       "      <th>Unnamed: 7</th>\n",
       "      <th>Unnamed: 8</th>\n",
       "      <th>Please rank the Star Wars films in order of preference with 1 being your favorite film in the franchise and 6 being your least favorite film.</th>\n",
       "      <th>...</th>\n",
       "      <th>Unnamed: 28</th>\n",
       "      <th>Which character shot first?</th>\n",
       "      <th>Are you familiar with the Expanded Universe?</th>\n",
       "      <th>Do you consider yourself to be a fan of the Expanded Universe?æ</th>\n",
       "      <th>Do you consider yourself to be a fan of the Star Trek franchise?</th>\n",
       "      <th>Gender</th>\n",
       "      <th>Age</th>\n",
       "      <th>Household Income</th>\n",
       "      <th>Education</th>\n",
       "      <th>Location (Census Region)</th>\n",
       "    </tr>\n",
       "  </thead>\n",
       "  <tbody>\n",
       "    <tr>\n",
       "      <th>0</th>\n",
       "      <td>NaN</td>\n",
       "      <td>Response</td>\n",
       "      <td>Response</td>\n",
       "      <td>Star Wars: Episode I  The Phantom Menace</td>\n",
       "      <td>Star Wars: Episode II  Attack of the Clones</td>\n",
       "      <td>Star Wars: Episode III  Revenge of the Sith</td>\n",
       "      <td>Star Wars: Episode IV  A New Hope</td>\n",
       "      <td>Star Wars: Episode V The Empire Strikes Back</td>\n",
       "      <td>Star Wars: Episode VI Return of the Jedi</td>\n",
       "      <td>Star Wars: Episode I  The Phantom Menace</td>\n",
       "      <td>...</td>\n",
       "      <td>Yoda</td>\n",
       "      <td>Response</td>\n",
       "      <td>Response</td>\n",
       "      <td>Response</td>\n",
       "      <td>Response</td>\n",
       "      <td>Response</td>\n",
       "      <td>Response</td>\n",
       "      <td>Response</td>\n",
       "      <td>Response</td>\n",
       "      <td>Response</td>\n",
       "    </tr>\n",
       "  </tbody>\n",
       "</table>\n",
       "<p>1 rows × 38 columns</p>\n",
       "</div>"
      ],
      "text/plain": [
       "   RespondentID Have you seen any of the 6 films in the Star Wars franchise?  \\\n",
       "0           NaN                                           Response             \n",
       "\n",
       "  Do you consider yourself to be a fan of the Star Wars film franchise?  \\\n",
       "0                                           Response                      \n",
       "\n",
       "  Which of the following Star Wars films have you seen? Please select all that apply.  \\\n",
       "0           Star Wars: Episode I  The Phantom Menace                                    \n",
       "\n",
       "                                    Unnamed: 4  \\\n",
       "0  Star Wars: Episode II  Attack of the Clones   \n",
       "\n",
       "                                    Unnamed: 5  \\\n",
       "0  Star Wars: Episode III  Revenge of the Sith   \n",
       "\n",
       "                          Unnamed: 6  \\\n",
       "0  Star Wars: Episode IV  A New Hope   \n",
       "\n",
       "                                     Unnamed: 7  \\\n",
       "0  Star Wars: Episode V The Empire Strikes Back   \n",
       "\n",
       "                                 Unnamed: 8  \\\n",
       "0  Star Wars: Episode VI Return of the Jedi   \n",
       "\n",
       "  Please rank the Star Wars films in order of preference with 1 being your favorite film in the franchise and 6 being your least favorite film.  \\\n",
       "0           Star Wars: Episode I  The Phantom Menace                                                                                              \n",
       "\n",
       "            ...            Unnamed: 28 Which character shot first?  \\\n",
       "0           ...                   Yoda                    Response   \n",
       "\n",
       "  Are you familiar with the Expanded Universe?  \\\n",
       "0                                     Response   \n",
       "\n",
       "  Do you consider yourself to be a fan of the Expanded Universe?æ  \\\n",
       "0                                           Response                 \n",
       "\n",
       "  Do you consider yourself to be a fan of the Star Trek franchise?    Gender  \\\n",
       "0                                           Response                Response   \n",
       "\n",
       "        Age Household Income Education Location (Census Region)  \n",
       "0  Response         Response  Response                 Response  \n",
       "\n",
       "[1 rows x 38 columns]"
      ]
     },
     "execution_count": 3,
     "metadata": {},
     "output_type": "execute_result"
    }
   ],
   "source": [
    "df[df['RespondentID'].isna()]"
   ]
  },
  {
   "cell_type": "code",
   "execution_count": 7,
   "metadata": {
    "collapsed": false,
    "scrolled": false
   },
   "outputs": [],
   "source": [
    "df = df[df['RespondentID'].notna()]"
   ]
  },
  {
   "cell_type": "code",
   "execution_count": 8,
   "metadata": {
    "collapsed": false
   },
   "outputs": [
    {
     "data": {
      "text/plain": [
       "(1186, 38)"
      ]
     },
     "execution_count": 8,
     "metadata": {},
     "output_type": "execute_result"
    }
   ],
   "source": [
    "df.shape"
   ]
  },
  {
   "cell_type": "markdown",
   "metadata": {},
   "source": [
    "* Have you seen any of the 6 films in the Star Wars franchise?\n",
    "* Do you consider yourself to be a fan of the Star Wars film franchise?\n",
    "\n",
    "\n",
    "\n",
    "Convert both columns to the Boolean type.\n",
    "\n",
    "When you're finished, both columns should only contain the values True, False, and NaN.\n"
   ]
  },
  {
   "cell_type": "code",
   "execution_count": 9,
   "metadata": {
    "collapsed": false,
    "scrolled": true
   },
   "outputs": [
    {
     "data": {
      "text/html": [
       "<div>\n",
       "<style scoped>\n",
       "    .dataframe tbody tr th:only-of-type {\n",
       "        vertical-align: middle;\n",
       "    }\n",
       "\n",
       "    .dataframe tbody tr th {\n",
       "        vertical-align: top;\n",
       "    }\n",
       "\n",
       "    .dataframe thead th {\n",
       "        text-align: right;\n",
       "    }\n",
       "</style>\n",
       "<table border=\"1\" class=\"dataframe\">\n",
       "  <thead>\n",
       "    <tr style=\"text-align: right;\">\n",
       "      <th></th>\n",
       "      <th>RespondentID</th>\n",
       "      <th>Have you seen any of the 6 films in the Star Wars franchise?</th>\n",
       "      <th>Do you consider yourself to be a fan of the Star Wars film franchise?</th>\n",
       "      <th>Which of the following Star Wars films have you seen? Please select all that apply.</th>\n",
       "      <th>Unnamed: 4</th>\n",
       "      <th>Unnamed: 5</th>\n",
       "      <th>Unnamed: 6</th>\n",
       "      <th>Unnamed: 7</th>\n",
       "      <th>Unnamed: 8</th>\n",
       "      <th>Please rank the Star Wars films in order of preference with 1 being your favorite film in the franchise and 6 being your least favorite film.</th>\n",
       "      <th>...</th>\n",
       "      <th>Unnamed: 28</th>\n",
       "      <th>Which character shot first?</th>\n",
       "      <th>Are you familiar with the Expanded Universe?</th>\n",
       "      <th>Do you consider yourself to be a fan of the Expanded Universe?æ</th>\n",
       "      <th>Do you consider yourself to be a fan of the Star Trek franchise?</th>\n",
       "      <th>Gender</th>\n",
       "      <th>Age</th>\n",
       "      <th>Household Income</th>\n",
       "      <th>Education</th>\n",
       "      <th>Location (Census Region)</th>\n",
       "    </tr>\n",
       "  </thead>\n",
       "  <tbody>\n",
       "    <tr>\n",
       "      <th>6</th>\n",
       "      <td>3.292719e+09</td>\n",
       "      <td>Yes</td>\n",
       "      <td>Yes</td>\n",
       "      <td>Star Wars: Episode I  The Phantom Menace</td>\n",
       "      <td>Star Wars: Episode II  Attack of the Clones</td>\n",
       "      <td>Star Wars: Episode III  Revenge of the Sith</td>\n",
       "      <td>Star Wars: Episode IV  A New Hope</td>\n",
       "      <td>Star Wars: Episode V The Empire Strikes Back</td>\n",
       "      <td>Star Wars: Episode VI Return of the Jedi</td>\n",
       "      <td>1</td>\n",
       "      <td>...</td>\n",
       "      <td>Very favorably</td>\n",
       "      <td>Han</td>\n",
       "      <td>Yes</td>\n",
       "      <td>No</td>\n",
       "      <td>Yes</td>\n",
       "      <td>Male</td>\n",
       "      <td>18-29</td>\n",
       "      <td>$25,000 - $49,999</td>\n",
       "      <td>Bachelor degree</td>\n",
       "      <td>Middle Atlantic</td>\n",
       "    </tr>\n",
       "  </tbody>\n",
       "</table>\n",
       "<p>1 rows × 38 columns</p>\n",
       "</div>"
      ],
      "text/plain": [
       "   RespondentID Have you seen any of the 6 films in the Star Wars franchise?  \\\n",
       "6  3.292719e+09                                                Yes             \n",
       "\n",
       "  Do you consider yourself to be a fan of the Star Wars film franchise?  \\\n",
       "6                                                Yes                      \n",
       "\n",
       "  Which of the following Star Wars films have you seen? Please select all that apply.  \\\n",
       "6           Star Wars: Episode I  The Phantom Menace                                    \n",
       "\n",
       "                                    Unnamed: 4  \\\n",
       "6  Star Wars: Episode II  Attack of the Clones   \n",
       "\n",
       "                                    Unnamed: 5  \\\n",
       "6  Star Wars: Episode III  Revenge of the Sith   \n",
       "\n",
       "                          Unnamed: 6  \\\n",
       "6  Star Wars: Episode IV  A New Hope   \n",
       "\n",
       "                                     Unnamed: 7  \\\n",
       "6  Star Wars: Episode V The Empire Strikes Back   \n",
       "\n",
       "                                 Unnamed: 8  \\\n",
       "6  Star Wars: Episode VI Return of the Jedi   \n",
       "\n",
       "  Please rank the Star Wars films in order of preference with 1 being your favorite film in the franchise and 6 being your least favorite film.  \\\n",
       "6                                                  1                                                                                              \n",
       "\n",
       "            ...                Unnamed: 28 Which character shot first?  \\\n",
       "6           ...             Very favorably                         Han   \n",
       "\n",
       "  Are you familiar with the Expanded Universe?  \\\n",
       "6                                          Yes   \n",
       "\n",
       "  Do you consider yourself to be a fan of the Expanded Universe?æ  \\\n",
       "6                                                 No                 \n",
       "\n",
       "  Do you consider yourself to be a fan of the Star Trek franchise? Gender  \\\n",
       "6                                                Yes                 Male   \n",
       "\n",
       "     Age   Household Income        Education Location (Census Region)  \n",
       "6  18-29  $25,000 - $49,999  Bachelor degree          Middle Atlantic  \n",
       "\n",
       "[1 rows x 38 columns]"
      ]
     },
     "execution_count": 9,
     "metadata": {},
     "output_type": "execute_result"
    }
   ],
   "source": [
    "df.iloc[[5]]"
   ]
  },
  {
   "cell_type": "code",
   "execution_count": 13,
   "metadata": {
    "collapsed": false,
    "scrolled": true
   },
   "outputs": [
    {
     "data": {
      "text/plain": [
       "1       Yes\n",
       "2        No\n",
       "3       Yes\n",
       "4       Yes\n",
       "5       Yes\n",
       "6       Yes\n",
       "7       Yes\n",
       "8       Yes\n",
       "9       Yes\n",
       "10      Yes\n",
       "11      Yes\n",
       "12       No\n",
       "13      Yes\n",
       "14      Yes\n",
       "15      Yes\n",
       "16      Yes\n",
       "17      Yes\n",
       "18      Yes\n",
       "19      Yes\n",
       "20      Yes\n",
       "21      Yes\n",
       "22      Yes\n",
       "23      Yes\n",
       "24      Yes\n",
       "25      Yes\n",
       "26       No\n",
       "27      Yes\n",
       "28      Yes\n",
       "29      Yes\n",
       "30      Yes\n",
       "       ... \n",
       "1157    Yes\n",
       "1158     No\n",
       "1159    Yes\n",
       "1160     No\n",
       "1161    Yes\n",
       "1162    Yes\n",
       "1163    Yes\n",
       "1164    Yes\n",
       "1165    Yes\n",
       "1166    Yes\n",
       "1167    Yes\n",
       "1168    Yes\n",
       "1169     No\n",
       "1170    Yes\n",
       "1171     No\n",
       "1172    Yes\n",
       "1173    Yes\n",
       "1174    Yes\n",
       "1175    Yes\n",
       "1176    Yes\n",
       "1177    Yes\n",
       "1178    Yes\n",
       "1179     No\n",
       "1180    Yes\n",
       "1181    Yes\n",
       "1182    Yes\n",
       "1183    Yes\n",
       "1184     No\n",
       "1185    Yes\n",
       "1186    Yes\n",
       "Name: Have you seen any of the 6 films in the Star Wars franchise?, Length: 1186, dtype: object"
      ]
     },
     "execution_count": 13,
     "metadata": {},
     "output_type": "execute_result"
    }
   ],
   "source": [
    "df.iloc[:,1]"
   ]
  },
  {
   "cell_type": "code",
   "execution_count": 15,
   "metadata": {
    "collapsed": false,
    "scrolled": true
   },
   "outputs": [
    {
     "data": {
      "text/plain": [
       "Yes    936\n",
       "No     250\n",
       "Name: Have you seen any of the 6 films in the Star Wars franchise?, dtype: int64"
      ]
     },
     "execution_count": 15,
     "metadata": {},
     "output_type": "execute_result"
    }
   ],
   "source": [
    "df.iloc[:,1].value_counts(dropna=False)"
   ]
  },
  {
   "cell_type": "code",
   "execution_count": 16,
   "metadata": {
    "collapsed": false,
    "scrolled": false
   },
   "outputs": [
    {
     "data": {
      "text/plain": [
       "Yes    552\n",
       "NaN    350\n",
       "No     284\n",
       "Name: Do you consider yourself to be a fan of the Star Wars film franchise?, dtype: int64"
      ]
     },
     "execution_count": 16,
     "metadata": {},
     "output_type": "execute_result"
    }
   ],
   "source": [
    "df.iloc[:,2].value_counts(dropna=False)"
   ]
  },
  {
   "cell_type": "code",
   "execution_count": 18,
   "metadata": {
    "collapsed": false
   },
   "outputs": [],
   "source": [
    "my_mapping = {\n",
    "    'Yes' : True,\n",
    "    'No'  : False,\n",
    "     np.NaN  : np.NaN,\n",
    "}\n",
    "\n",
    "df.iloc[:,1] = df.iloc[:,1].map(my_mapping)\n",
    "df.iloc[:,2] = df.iloc[:,2].map(my_mapping)"
   ]
  },
  {
   "cell_type": "code",
   "execution_count": 19,
   "metadata": {
    "collapsed": false,
    "scrolled": false
   },
   "outputs": [
    {
     "data": {
      "text/plain": [
       "True     936\n",
       "False    250\n",
       "Name: Have you seen any of the 6 films in the Star Wars franchise?, dtype: int64"
      ]
     },
     "execution_count": 19,
     "metadata": {},
     "output_type": "execute_result"
    }
   ],
   "source": [
    "df.iloc[:,1].value_counts(dropna=False)"
   ]
  },
  {
   "cell_type": "code",
   "execution_count": 20,
   "metadata": {
    "collapsed": false,
    "scrolled": true
   },
   "outputs": [
    {
     "data": {
      "text/plain": [
       "True     552\n",
       "NaN      350\n",
       "False    284\n",
       "Name: Do you consider yourself to be a fan of the Star Wars film franchise?, dtype: int64"
      ]
     },
     "execution_count": 20,
     "metadata": {},
     "output_type": "execute_result"
    }
   ],
   "source": [
    "df.iloc[:,2].value_counts(dropna=False)"
   ]
  },
  {
   "cell_type": "markdown",
   "metadata": {},
   "source": [
    "<div><p>The next six columns represent a single checkbox question.  The respondent checked off a series of boxes in response to the question, <code>Which of the following Star Wars films have you seen? Please select all that apply.</code></p>\n",
    "<p>The columns for this question are:</p>\n",
    "<ul>\n",
    "<li><code>Which of the following Star Wars films have you seen? Please select all that apply.</code>  - Whether or not the respondent saw <code>Star Wars: Episode I  The Phantom Menace</code>.</li>\n",
    "<li><code>Unnamed: 4</code> - Whether or not the respondent saw <code>Star Wars: Episode II  Attack of the Clones</code>.</li>\n",
    "<li><code>Unnamed: 5</code> - Whether or not the respondent saw <code>Star Wars: Episode III  Revenge of the Sith</code>.</li>\n",
    "<li><code>Unnamed: 6</code> - Whether or not the respondent saw <code>Star Wars: Episode IV  A New Hope</code>.</li>\n",
    "<li><code>Unnamed: 7</code> - Whether or not the respondent saw <code>Star Wars: Episode V The Empire Strikes Back</code>.</li>\n",
    "<li><code>Unnamed: 8</code> - Whether or not the respondent saw <code>Star Wars: Episode VI Return of the Jedi</code>.</li>\n",
    "</ul>\n",
    "<p>For each of these columns, if the value in a cell is the name of the movie, that means the respondent saw the movie.  If the value is <code>NaN</code>, the respondent either didn't answer or didn't see the movie.  We'll assume that they didn't see the movie.</p>\n",
    "<p>We'll need to convert each of these columns to a Boolean, then rename the column something more intuitive.  We can convert the values the same way we did earlier, except that we'll need to include the movie title and <code>NaN</code> in the mapping dictionary.</p>\n",
    "</div>"
   ]
  },
  {
   "cell_type": "code",
   "execution_count": 29,
   "metadata": {
    "collapsed": false,
    "scrolled": true
   },
   "outputs": [
    {
     "data": {
      "text/plain": [
       "True     673\n",
       "False    513\n",
       "Name: Which of the following Star Wars films have you seen? Please select all that apply., dtype: int64"
      ]
     },
     "execution_count": 29,
     "metadata": {},
     "output_type": "execute_result"
    }
   ],
   "source": [
    "df.iloc[:,3].str.contains('Star', na=False).value_counts(dropna=False)"
   ]
  },
  {
   "cell_type": "code",
   "execution_count": 30,
   "metadata": {
    "collapsed": true
   },
   "outputs": [],
   "source": [
    "# Converting column contents from movie names, NaNs to True and False\n",
    "# This will add True where the title has 'Star' and will convert na to False\n",
    "\n",
    "df.iloc[:,3] = df.iloc[:,3].str.contains('Star', na=False)\n",
    "df.iloc[:,4] = df.iloc[:,4].str.contains('Star', na=False)\n",
    "df.iloc[:,5] = df.iloc[:,5].str.contains('Star', na=False)\n",
    "df.iloc[:,6] = df.iloc[:,6].str.contains('Star', na=False)\n",
    "df.iloc[:,7] = df.iloc[:,7].str.contains('Star', na=False)\n",
    "df.iloc[:,8] = df.iloc[:,8].str.contains('Star', na=False)"
   ]
  },
  {
   "cell_type": "code",
   "execution_count": 34,
   "metadata": {
    "collapsed": false,
    "scrolled": true
   },
   "outputs": [
    {
     "name": "stdout",
     "output_type": "stream",
     "text": [
      "True     673\n",
      "False    513\n",
      "Name: Which of the following Star Wars films have you seen? Please select all that apply., dtype: int64\n",
      "False    615\n",
      "True     571\n",
      "Name: Unnamed: 4, dtype: int64\n",
      "False    636\n",
      "True     550\n",
      "Name: Unnamed: 5, dtype: int64\n",
      "True     607\n",
      "False    579\n",
      "Name: Unnamed: 6, dtype: int64\n",
      "True     758\n",
      "False    428\n",
      "Name: Unnamed: 7, dtype: int64\n",
      "True     738\n",
      "False    448\n",
      "Name: Unnamed: 8, dtype: int64\n"
     ]
    }
   ],
   "source": [
    "for i in range(3,9):\n",
    "    print(df.iloc[:,i].value_counts())"
   ]
  },
  {
   "cell_type": "code",
   "execution_count": 36,
   "metadata": {
    "collapsed": false
   },
   "outputs": [],
   "source": [
    "# df.columns\n",
    "rename_dict = {\n",
    "    'Which of the following Star Wars films have you seen? Please select all that apply.' : 'seen_1',\n",
    "    'Unnamed: 4' : 'seen_2',\n",
    "    'Unnamed: 5' : 'seen_3',\n",
    "    'Unnamed: 6' : 'seen_4',\n",
    "    'Unnamed: 7' : 'seen_5',\n",
    "    'Unnamed: 8' : 'seen_6',\n",
    "    }\n",
    "\n",
    "df.rename(columns=rename_dict, inplace=True)"
   ]
  },
  {
   "cell_type": "code",
   "execution_count": 38,
   "metadata": {
    "collapsed": false,
    "scrolled": false
   },
   "outputs": [
    {
     "data": {
      "text/plain": [
       "Index(['seen_1', 'seen_2', 'seen_3', 'seen_4', 'seen_5', 'seen_6'], dtype='object')"
      ]
     },
     "execution_count": 38,
     "metadata": {},
     "output_type": "execute_result"
    }
   ],
   "source": [
    "df.columns[3:9]"
   ]
  },
  {
   "cell_type": "markdown",
   "metadata": {},
   "source": [
    "<div>\n",
    "    <p>The next six columns ask the respondent to rank the <em>Star Wars</em> movies in order of least favorite to most\n",
    "        favorite. <code>1</code> means the film was the most favorite, and <code>6</code> means it was the least\n",
    "        favorite. Each of the following columns can contain the value <code>1</code>, <code>2</code>, <code>3</code>,\n",
    "        <code>4</code>, <code>5</code>, <code>6</code>, or <code>NaN</code>:</p>\n",
    "    <ul>\n",
    "        <li><code>Please rank the Star Wars films in order of preference with 1 being your favorite film in the franchise and 6 being your least favorite film.</code>- How much the respondent liked <code>Star Wars: Episode I  The Phantom Menace</code></li>\n",
    "        <li><code>Unnamed: 10</code> - How much the respondent liked\n",
    "            <code>Star Wars: Episode II  Attack of the Clones</code></li>\n",
    "        <li><code>Unnamed: 11</code> - How much the respondent liked\n",
    "            <code>Star Wars: Episode III  Revenge of the Sith</code></li>\n",
    "        <li><code>Unnamed: 12</code> - How much the respondent liked <code>Star Wars: Episode IV  A New Hope</code></li>\n",
    "        <li><code>Unnamed: 13</code> - How much the respondent liked\n",
    "            <code>Star Wars: Episode V The Empire Strikes Back</code></li>\n",
    "        <li><code>Unnamed: 14</code> - How much the respondent liked\n",
    "            <code>Star Wars: Episode VI Return of the Jedi</code></li>\n",
    "    </ul>\n",
    "    <p>Fortunately, these columns don't require a lot of cleanup. We'll need to convert each column to a numeric type,\n",
    "        though, then rename the columns so that we can tell what they represent more easily.</p>\n",
    "    <p>We can do the numeric conversion with the <a target=\"_blank\"\n",
    "            href=\"http://pandas.pydata.org/pandas-docs/stable/generated/pandas.DataFrame.astype.html\">pandas.DataFrame.astype()</a>\n",
    "        method on dataframes. In this case, we can use code that looks like this:</p>\n",
    "</div>\n",
    "<div>star_wars[star_wars.columns[9:15]] = star_wars[star_wars.columns[9:15]].astype(float)</div>\n",
    "<p>The code above will convert column <code>9</code> up to but not including column <code>15</code> to the float\n",
    "    data type.</p>\n",
    "\n",
    "<ul>\n",
    "    <li>Convert each of the columns above to a <code>float</code> type.<ul>\n",
    "            <li>You can select all of the column names with <code>star_wars.columns[9:15]</code>, rather than\n",
    "                typing each one in.</li>\n",
    "        </ul>\n",
    "    </li>\n",
    "    <li>Give each column a more descriptive name. We suggest <code>ranking_1</code>, <code>ranking_2</code>, and\n",
    "        so on.<ul>\n",
    "            <li>You can use the <code>df.rename()</code> method from the last screen to accomplish this.</li>\n",
    "    </li>\n",
    "</ul>"
   ]
  },
  {
   "cell_type": "code",
   "execution_count": 41,
   "metadata": {
    "collapsed": false
   },
   "outputs": [],
   "source": [
    "df[df.columns[9:15]] = df[df.columns[9:15]].astype(float)"
   ]
  },
  {
   "cell_type": "code",
   "execution_count": 43,
   "metadata": {
    "collapsed": false,
    "scrolled": true
   },
   "outputs": [
    {
     "data": {
      "text/plain": [
       "Please rank the Star Wars films in order of preference with 1 being your favorite film in the franchise and 6 being your least favorite film.    float64\n",
       "Unnamed: 10                                                                                                                                      float64\n",
       "Unnamed: 11                                                                                                                                      float64\n",
       "Unnamed: 12                                                                                                                                      float64\n",
       "Unnamed: 13                                                                                                                                      float64\n",
       "Unnamed: 14                                                                                                                                      float64\n",
       "dtype: object"
      ]
     },
     "execution_count": 43,
     "metadata": {},
     "output_type": "execute_result"
    }
   ],
   "source": [
    "df[df.columns[9:15]].dtypes"
   ]
  },
  {
   "cell_type": "code",
   "execution_count": 53,
   "metadata": {
    "collapsed": false,
    "scrolled": true
   },
   "outputs": [],
   "source": [
    "old_names = df.columns[9:15]\n",
    "new_names = ['ranking_{}'.format(i) for i in range(1,7)]\n",
    "\n",
    "ren_dict = dict(zip( old_names, new_names ))\n",
    "\n",
    "df.rename(columns=ren_dict, inplace=True)"
   ]
  },
  {
   "cell_type": "code",
   "execution_count": 54,
   "metadata": {
    "collapsed": false,
    "scrolled": true
   },
   "outputs": [
    {
     "data": {
      "text/plain": [
       "Index(['ranking_1', 'ranking_2', 'ranking_3', 'ranking_4', 'ranking_5',\n",
       "       'ranking_6'],\n",
       "      dtype='object')"
      ]
     },
     "execution_count": 54,
     "metadata": {},
     "output_type": "execute_result"
    }
   ],
   "source": [
    "df.columns[9:15]"
   ]
  },
  {
   "cell_type": "markdown",
   "metadata": {},
   "source": [
    "<p> Now that we've cleaned up the ranking columns, we can find the highest-ranked movie more quickly. To do this, take\n",
    "       <a href=\"http://pandas.pydata.org/pandas-docs/stable/generated/pandas.DataFrame.mean.html\">pandas.DataFrame.mean()</a>\n",
    "    method on dataframes.</p>\n",
    "\n",
    "<ul>\n",
    "    <li>Use the <code>pandas.DataFrame.mean()</code> method to compute the mean of each of the\n",
    "        <code>ranking</code> columns from the last screen.</li>\n",
    "    <li>Make a bar chart of each seen. You can use a matplotlib <a target=\"_blank\"\n",
    "            href=\"http://matplotlib.org/examples/api/barchart_demo.html\">bar chart</a> for this.<ul>\n",
    "            <li>Make sure to run <code>%matplotlib inline</code> beforehand to show your plots in the notebook.\n",
    "            </li>\n",
    "        </ul>\n",
    "    </li>\n",
    "    <li>Write up a summary of what you've done so far in a Markdown cell. Also discuss why you think the\n",
    "        respondents ranked the movies the way they did.<ul>\n",
    "            <li>Remember that a lower ranking is better!</li>\n",
    "        </ul>\n",
    "    </li>\n",
    "</ul>"
   ]
  },
  {
   "cell_type": "code",
   "execution_count": 56,
   "metadata": {
    "collapsed": false,
    "scrolled": true
   },
   "outputs": [
    {
     "data": {
      "text/plain": [
       "['ranking_1', 'ranking_2', 'ranking_3', 'ranking_4', 'ranking_5', 'ranking_6']"
      ]
     },
     "execution_count": 56,
     "metadata": {},
     "output_type": "execute_result"
    }
   ],
   "source": [
    "[i for i in df.columns if 'ranking' in i]"
   ]
  },
  {
   "cell_type": "code",
   "execution_count": 57,
   "metadata": {
    "collapsed": false,
    "scrolled": true
   },
   "outputs": [
    {
     "data": {
      "text/plain": [
       "Index(['ranking_1', 'ranking_2', 'ranking_3', 'ranking_4', 'ranking_5',\n",
       "       'ranking_6'],\n",
       "      dtype='object')"
      ]
     },
     "execution_count": 57,
     "metadata": {},
     "output_type": "execute_result"
    }
   ],
   "source": [
    "df.columns[9:15]"
   ]
  },
  {
   "cell_type": "code",
   "execution_count": 60,
   "metadata": {
    "collapsed": false
   },
   "outputs": [
    {
     "data": {
      "text/plain": [
       "ranking_1    3.732934\n",
       "ranking_2    4.087321\n",
       "ranking_3    4.341317\n",
       "ranking_4    3.272727\n",
       "ranking_5    2.513158\n",
       "ranking_6    3.047847\n",
       "dtype: float64"
      ]
     },
     "execution_count": 60,
     "metadata": {},
     "output_type": "execute_result"
    }
   ],
   "source": [
    "df[df.columns[9:15]].mean()"
   ]
  },
  {
   "cell_type": "code",
   "execution_count": 62,
   "metadata": {
    "collapsed": false,
    "scrolled": true
   },
   "outputs": [
    {
     "data": {
      "text/plain": [
       "<matplotlib.axes._subplots.AxesSubplot at 0x7fe2b311d5c0>"
      ]
     },
     "execution_count": 62,
     "metadata": {},
     "output_type": "execute_result"
    },
    {
     "data": {
      "image/png": "[encoded data removed]",
      "text/plain": [
       "<matplotlib.figure.Figure at 0x7fe2b51f9be0>"
      ]
     },
     "metadata": {},
     "output_type": "display_data"
    }
   ],
   "source": [
    "df[df.columns[9:15]].mean().plot(kind='bar')"
   ]
  },
  {
   "cell_type": "markdown",
   "metadata": {},
   "source": [
    "1. Star Wars: Episode I The Phantom Menace\n",
    "1. Star Wars: Episode II Attack of the Clones\n",
    "1. Star Wars: Episode III Revenge of the Sith\n",
    "1. Star Wars: Episode IV A New Hope\n",
    "1. Star Wars: Episode V The Empire Strikes Back\n",
    "1. Star Wars: Episode VI Return of the Jedi"
   ]
  },
  {
   "cell_type": "markdown",
   "metadata": {},
   "source": [
    "<div><p>Earlier in this project, we cleaned up the <code>seen</code> columns and converted their values to the Boolean type.  When we call methods like <a target=\"_blank\" href=\"http://pandas.pydata.org/pandas-docs/stable/generated/pandas.DataFrame.sum.html\">pandas.DataFrame.sum()</a> or <code>mean()</code>, they treat Booleans like integers.  They consider <code>True</code> a <code>1</code>, and <code>False</code> a <code>0</code>.  That means we can figure out how many people have seen each movie just by taking the sum of the column (even though they contain Boolean values).</p></div></div></div><div class=\"ScrollAccordion__section\"><div theme=\"dark\" class=\"ScrollAccordion__in_text SidePanelTitle__dark\" style=\"opacity: 1;\" id=\"onboarding-tip-instructions\">instructions</div><iframe style=\"height: 100%; width: 100%; border: medium none; background: transparent none repeat scroll 0% 0%; position: absolute; z-index: -1; top: 0px; left: 0px;\"></iframe><div id=\"body\" class=\"MissionLearn__instructions MissionMarkup__dark\"><ul>\n",
    "<li>Use the <code>df.sum()</code> method to compute the sum of each of the <code>seen</code> columns.</li>\n",
    "<li>Make a bar chart of each ranking.  You can use a matplotlib <a target=\"_blank\" href=\"http://matplotlib.org/examples/api/barchart_demo.html\">bar chart</a> for this.</li>\n",
    "<li>Write up your thoughts on why the results look the way they do in a Markdown cell.  Also discuss how the results correlate with the rankings.</li>\n",
    "</ul></div>"
   ]
  },
  {
   "cell_type": "code",
   "execution_count": 66,
   "metadata": {
    "collapsed": false,
    "scrolled": true
   },
   "outputs": [
    {
     "data": {
      "text/plain": [
       "<matplotlib.axes._subplots.AxesSubplot at 0x7fe2b2f4fa90>"
      ]
     },
     "execution_count": 66,
     "metadata": {},
     "output_type": "execute_result"
    },
    {
     "data": {
      "image/png": "[encoded data removed]",
      "text/plain": [
       "<matplotlib.figure.Figure at 0x7fe2b2fac278>"
      ]
     },
     "metadata": {},
     "output_type": "display_data"
    }
   ],
   "source": [
    "df[df.columns[3:9]].sum().plot(kind='bar')"
   ]
  },
  {
   "cell_type": "markdown",
   "metadata": {},
   "source": [
    "1. Star Wars: Episode I The Phantom Menace\n",
    "1. Star Wars: Episode II Attack of the Clones\n",
    "1. Star Wars: Episode III Revenge of the Sith\n",
    "1. Star Wars: Episode IV A New Hope\n",
    "1. Star Wars: Episode V The Empire Strikes Back\n",
    "1. Star Wars: Episode VI Return of the Jedi"
   ]
  },
  {
   "cell_type": "markdown",
   "metadata": {},
   "source": [
    "---"
   ]
  },
  {
   "cell_type": "markdown",
   "metadata": {},
   "source": [
    "<div>\n",
    "    <p>We know which movies the survey population as a whole has ranked the highest. Now let's examine how certain\n",
    "        segments of the survey population responded. There are several columns that segment our data into two groups.\n",
    "        Here are a few examples: </p>\n",
    "    <ul>\n",
    "        <li><code>Do you consider yourself to be a fan of the Star Wars film franchise?</code> - True or False</li>\n",
    "        <li><code>Do you consider yourself to be a fan of the Star Trek franchise?</code> - <code>Yes</code> or\n",
    "            <code>No</code></li>\n",
    "        <li><code>Gender</code> - <code>Male</code> or <code>Female</code></li>\n",
    "    </ul>\n",
    "    <p>We can split a dataframe into two groups based on a binary column by creating two subsets of that column. For\n",
    "        example, we can split on the <code>Gender</code> column like this:</p>\n",
    "</div>\n",
    "<p>males = star_wars[star_wars[\"Gender\"] == \"Male\"]</p>\n",
    "<p>females = star_wars[star_wars[\"Gender\"] == \"Female\"]</p><br>\n",
    "\n",
    "<div>\n",
    "    <p>The subsets will allow us to compute the most viewed movie, the highest-ranked movie, and other statistics\n",
    "        separately for each group.</p>\n",
    "</div>\n",
    "</div>\n",
    "</div>\n",
    "<div class=\"ScrollAccordion__section\">\n",
    "    <div id=\"body\" class=\"MissionLearn__instructions MissionMarkup__dark\">\n",
    "        <ul>\n",
    "            <li>Split the data into two groups based on one of the binary columns above.</li>\n",
    "            <li>Redo the two previous analyses (find the most viewed movie and the highest-ranked movie) separately for\n",
    "                each group, and then compare the results. </li>\n",
    "            <li>If you see any interesting patterns, write about them in a Markdown cell.</li>\n",
    "        </ul>\n",
    "    </div>"
   ]
  },
  {
   "cell_type": "code",
   "execution_count": 73,
   "metadata": {
    "collapsed": false
   },
   "outputs": [],
   "source": [
    "# Males:"
   ]
  },
  {
   "cell_type": "code",
   "execution_count": 75,
   "metadata": {
    "collapsed": false,
    "scrolled": true
   },
   "outputs": [
    {
     "data": {
      "text/plain": [
       "<matplotlib.axes._subplots.AxesSubplot at 0x7fe2b2ebfd68>"
      ]
     },
     "execution_count": 75,
     "metadata": {},
     "output_type": "execute_result"
    },
    {
     "data": {
      "image/png": "[encoded data removed]",
      "text/plain": [
       "<matplotlib.figure.Figure at 0x7fe2b2ec4860>"
      ]
     },
     "metadata": {},
     "output_type": "display_data"
    }
   ],
   "source": [
    "# Seens :\n",
    "\n",
    "df[df['Gender']=='Male'].iloc[:,3:9].mean().plot(kind='bar')"
   ]
  },
  {
   "cell_type": "code",
   "execution_count": 77,
   "metadata": {
    "collapsed": false,
    "scrolled": true
   },
   "outputs": [
    {
     "data": {
      "text/plain": [
       "<matplotlib.axes._subplots.AxesSubplot at 0x7fe2b2e65518>"
      ]
     },
     "execution_count": 77,
     "metadata": {},
     "output_type": "execute_result"
    },
    {
     "data": {
      "image/png": "[encoded data removed]",
      "text/plain": [
       "<matplotlib.figure.Figure at 0x7fe2b2ec4d30>"
      ]
     },
     "metadata": {},
     "output_type": "display_data"
    }
   ],
   "source": [
    "# Ranking:\n",
    "df[df['Gender']=='Male'].iloc[:,9:15].sum().plot.bar()"
   ]
  },
  {
   "cell_type": "code",
   "execution_count": 73,
   "metadata": {
    "collapsed": false
   },
   "outputs": [],
   "source": [
    "# Females:"
   ]
  },
  {
   "cell_type": "code",
   "execution_count": 78,
   "metadata": {
    "collapsed": false,
    "scrolled": true
   },
   "outputs": [
    {
     "data": {
      "text/plain": [
       "<matplotlib.axes._subplots.AxesSubplot at 0x7fe2b15d4780>"
      ]
     },
     "execution_count": 78,
     "metadata": {},
     "output_type": "execute_result"
    },
    {
     "data": {
      "image/png": "[encoded data removed]",
      "text/plain": [
       "<matplotlib.figure.Figure at 0x7fe2b15da1d0>"
      ]
     },
     "metadata": {},
     "output_type": "display_data"
    }
   ],
   "source": [
    "# Seens :\n",
    "\n",
    "df[df['Gender']=='Female'].iloc[:,3:9].mean().plot(kind='bar')"
   ]
  },
  {
   "cell_type": "code",
   "execution_count": 79,
   "metadata": {
    "collapsed": false,
    "scrolled": true
   },
   "outputs": [
    {
     "data": {
      "text/plain": [
       "<matplotlib.axes._subplots.AxesSubplot at 0x7fe2b15164a8>"
      ]
     },
     "execution_count": 79,
     "metadata": {},
     "output_type": "execute_result"
    },
    {
     "data": {
      "image/png": "[encoded data removed]",
      "text/plain": [
       "<matplotlib.figure.Figure at 0x7fe2b1520630>"
      ]
     },
     "metadata": {},
     "output_type": "display_data"
    }
   ],
   "source": [
    "# Ranking:\n",
    "df[df['Gender']=='Female'].iloc[:,9:15].sum().plot.bar()"
   ]
  },
  {
   "cell_type": "markdown",
   "metadata": {},
   "source": [
    "---"
   ]
  },
  {
   "cell_type": "code",
   "execution_count": 81,
   "metadata": {
    "collapsed": false,
    "scrolled": true
   },
   "outputs": [
    {
     "ename": "AttributeError",
     "evalue": "'module' object has no attribute 'displot'",
     "output_type": "error",
     "traceback": [
      "\u001b[1;31m\u001b[0m",
      "\u001b[1;31mAttributeError\u001b[0mTraceback (most recent call last)",
      "\u001b[1;32m<ipython-input-81-4ee222219be7>\u001b[0m in \u001b[0;36m<module>\u001b[1;34m()\u001b[0m\n\u001b[1;32m----> 1\u001b[1;33m sns.displot(\n\u001b[0m\u001b[0;32m      2\u001b[0m     \u001b[0mdf\u001b[0m\u001b[1;33m,\u001b[0m \u001b[0mx\u001b[0m\u001b[1;33m=\u001b[0m\u001b[1;34m\"Gender\"\u001b[0m\u001b[1;33m,\u001b[0m \u001b[0mcol\u001b[0m\u001b[1;33m=\u001b[0m\u001b[1;34m\"species\"\u001b[0m\u001b[1;33m,\u001b[0m \u001b[0mrow\u001b[0m\u001b[1;33m=\u001b[0m\u001b[1;34m\"sex\"\u001b[0m\u001b[1;33m,\u001b[0m\u001b[1;33m\u001b[0m\u001b[0m\n\u001b[0;32m      3\u001b[0m     \u001b[0mbinwidth\u001b[0m\u001b[1;33m=\u001b[0m\u001b[1;36m3\u001b[0m\u001b[1;33m,\u001b[0m \u001b[0mheight\u001b[0m\u001b[1;33m=\u001b[0m\u001b[1;36m3\u001b[0m\u001b[1;33m,\u001b[0m \u001b[0mfacet_kws\u001b[0m\u001b[1;33m=\u001b[0m\u001b[0mdict\u001b[0m\u001b[1;33m(\u001b[0m\u001b[0mmargin_titles\u001b[0m\u001b[1;33m=\u001b[0m\u001b[1;32mTrue\u001b[0m\u001b[1;33m)\u001b[0m\u001b[1;33m,\u001b[0m\u001b[1;33m\u001b[0m\u001b[0m\n\u001b[0;32m      4\u001b[0m )\n",
      "\u001b[1;31mAttributeError\u001b[0m: 'module' object has no attribute 'displot'"
     ]
    }
   ],
   "source": [
    "sns.displot(\n",
    "    df, x=\"Gender\", col=\"species\", row=\"sex\",\n",
    "    binwidth=3, height=3, facet_kws=dict(margin_titles=True),\n",
    ")"
   ]
  },
  {
   "cell_type": "markdown",
   "metadata": {},
   "source": [
    "Here are some potential next steps:\n",
    "\n",
    "    Try to segment the data based on columns like Education, Location (Census Region), and Which character shot first?, which aren't binary. Are they any interesting patterns?\n",
    "    Clean up columns 15 to 29, which contain data on the characters respondents view favorably and unfavorably.\n",
    "        Which character do respondents like the most?\n",
    "        Which character do respondents dislike the most?\n",
    "        Which character is the most controversial (split between likes and dislikes)?\n"
   ]
  }
 ],
 "metadata": {
  "kernelspec": {
   "display_name": "Python 3",
   "language": "python",
   "name": "python3"
  },
  "language_info": {
   "codemirror_mode": {
    "name": "ipython",
    "version": 3
   },
   "file_extension": ".py",
   "mimetype": "text/x-python",
   "name": "python",
   "nbconvert_exporter": "python",
   "pygments_lexer": "ipython3",
   "version": "3.4.3"
  }
 },
 "nbformat": 4,
 "nbformat_minor": 0
}
