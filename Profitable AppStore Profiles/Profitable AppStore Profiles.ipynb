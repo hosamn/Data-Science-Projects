{
 "cells": [
  {
   "cell_type": "markdown",
   "metadata": {},
   "source": [
    "# Mobile App Analysis:\n",
    "#### aka: Profitable App Profiles for AppStore and Google Play Markets\n",
    "--------------\n",
    "\n",
    "* This is a Data Analysis project where I analyze two sources of data:\n",
    "\n",
    "  1. The Apple Appstore dataset available at [Kaggle](https://www.kaggle.com/ramamet4/app-store-apple-data-set-10k-apps/version/2), and\n",
    "  2. The Google Play store dateset available also at [Kaggle](https://www.kaggle.com/lava18/google-play-store-apps).\n",
    "\n",
    "\n",
    "* The goal is to understand and identify the types of *free* mobile apps that are most likely to attract more users over time.\n"
   ]
  },
  {
   "cell_type": "markdown",
   "metadata": {},
   "source": [
    "### First, general Exploration:"
   ]
  },
  {
   "cell_type": "code",
   "execution_count": 1,
   "metadata": {
    "collapsed": false
   },
   "outputs": [],
   "source": [
    "# This is a csv to list of lists func.:\n",
    "\n",
    "def csv2lol(csvFile,trim_headers=0):\n",
    "    \n",
    "    '''\n",
    "    Description:\n",
    "        A \"CSV\" to \"list of lists\" Function,\n",
    "        expects 2 arguments:\n",
    "            1. Dataset CSV File Path+Name. (String)\n",
    "            2. Should the headers be removed.\n",
    "               (Boolean, Optional, Defaults to False)\n",
    "    \n",
    "    Usage:\n",
    "        csv2lol(\"googleplaystore.csv\")\n",
    "        csv2lol(\"googleplaystore.csv\",1)\n",
    "    '''\n",
    "    opFile = open(csvFile, encoding=\"utf8\")\n",
    "    from csv import reader\n",
    "    rFile = reader(opFile)\n",
    "    lol = list(rFile)\n",
    "    if trim_headers:\n",
    "        return lol[1:]\n",
    "    else:\n",
    "        return lol"
   ]
  },
  {
   "cell_type": "code",
   "execution_count": 2,
   "metadata": {
    "collapsed": false
   },
   "outputs": [],
   "source": [
    "# This is a data 'Scanner' func.:\n",
    "\n",
    "def dataScan(dataset,start=0,end=0,general_info=1):\n",
    "    \n",
    "    '''\n",
    "    Description:\n",
    "        Data exploration Function that prints some data\n",
    "        and some general info,\n",
    "        expects 4 arguments:\n",
    "            1. Dataset Name.\n",
    "               (List of Lists)\n",
    "            2. Where to start.\n",
    "               (int, Optional)\n",
    "            3. Where to End, sholud be greater than start.\n",
    "               (int, Optional)\n",
    "            4. Print General info?\n",
    "               (Boolean, Optional, Defaults to True)\n",
    "    \n",
    "    Usage:\n",
    "        dataScan(dataset)        Prints General Info Only\n",
    "        dataScan(dataset,1,5,0)  Prints the first 4 rows only\n",
    "    '''\n",
    "    print('========================================')\n",
    "\n",
    "    if general_info:\n",
    "        print('Dataset General Info :\\n====================')\n",
    "        print('Columns = '+str(len(dataset[0])))\n",
    "        print('Rows    = '+str(len(dataset))+'   (including headers if present)')\n",
    "        print('\\n')\n",
    "        print('Dataset Header : ')\n",
    "        print(dataset[0])\n",
    "        print('\\n')\n",
    "\n",
    "    if start<end:\n",
    "        print(\"Requested Data (%s Rows) :\\n=======================\"%(end-start))\n",
    "        for i in dataset[start:end]:\n",
    "            print(i)\n",
    "    else:\n",
    "        print('No Data Requested.')\n",
    "        print('to get some data set the start and end arguments, eg:')\n",
    "        print('dataScan(dataset,1,5,0)  Prints the first 4 rows only')\n",
    "    print('========================================')"
   ]
  },
  {
   "cell_type": "code",
   "execution_count": 3,
   "metadata": {
    "collapsed": true
   },
   "outputs": [],
   "source": [
    "# help(csv2lol)\n",
    "# print('\\n')\n",
    "# help(dataScan)\n",
    "\n",
    "# dataScan(csv2lol(\"googleplaystore.csv\"))\n",
    "# dataScan(csv2lol(\"AppleStore.csv\"),0,0,0)"
   ]
  },
  {
   "cell_type": "code",
   "execution_count": 4,
   "metadata": {
    "collapsed": false,
    "scrolled": false
   },
   "outputs": [
    {
     "name": "stdout",
     "output_type": "stream",
     "text": [
      "========================================\n",
      "Dataset General Info :\n",
      "====================\n",
      "Columns = 13\n",
      "Rows    = 10842   (including headers if present)\n",
      "\n",
      "\n",
      "Dataset Header : \n",
      "['App', 'Category', 'Rating', 'Reviews', 'Size', 'Installs', 'Type', 'Price', 'Content Rating', 'Genres', 'Last Updated', 'Current Ver', 'Android Ver']\n",
      "\n",
      "\n",
      "Requested Data (1 Rows) :\n",
      "=======================\n",
      "['Photo Editor & Candy Camera & Grid & ScrapBook', 'ART_AND_DESIGN', '4.1', '159', '19M', '10,000+', 'Free', '0', 'Everyone', 'Art & Design', 'January 7, 2018', '1.0.0', '4.0.3 and up']\n",
      "========================================\n"
     ]
    }
   ],
   "source": [
    "dataScan(csv2lol(\"googleplaystore.csv\"),1,2)"
   ]
  },
  {
   "cell_type": "code",
   "execution_count": 5,
   "metadata": {
    "collapsed": false
   },
   "outputs": [
    {
     "name": "stdout",
     "output_type": "stream",
     "text": [
      "========================================\n",
      "Dataset General Info :\n",
      "====================\n",
      "Columns = 16\n",
      "Rows    = 7198   (including headers if present)\n",
      "\n",
      "\n",
      "Dataset Header : \n",
      "['id', 'track_name', 'size_bytes', 'currency', 'price', 'rating_count_tot', 'rating_count_ver', 'user_rating', 'user_rating_ver', 'ver', 'cont_rating', 'prime_genre', 'sup_devices.num', 'ipadSc_urls.num', 'lang.num', 'vpp_lic']\n",
      "\n",
      "\n",
      "Requested Data (1 Rows) :\n",
      "=======================\n",
      "['284882215', 'Facebook', '389879808', 'USD', '0.0', '2974676', '212', '3.5', '3.5', '95.0', '4+', 'Social Networking', '37', '1', '29', '1']\n",
      "========================================\n"
     ]
    }
   ],
   "source": [
    "dataScan(csv2lol(\"AppleStore.csv\"),1,2)"
   ]
  },
  {
   "cell_type": "markdown",
   "metadata": {},
   "source": [
    "### Next, Error Analysis:\n",
    "- Find Apps w/ missing data points.\n",
    "- Find Apps w/ empty data points."
   ]
  },
  {
   "cell_type": "code",
   "execution_count": 6,
   "metadata": {
    "collapsed": true
   },
   "outputs": [],
   "source": [
    "# this Func. finds MISSING data points:\n",
    "\n",
    "def missFinder(lol):\n",
    "        \n",
    "    '''\n",
    "    Description:\n",
    "        Prints rows with missing data along\n",
    "        with their index, by comparing every\n",
    "        row's length to header row's length,\n",
    "        expects 1 argument:\n",
    "            Dataset Name. (List of Lists)\n",
    "               \n",
    "    Usage:\n",
    "        missFinder(Dataset_as_List_of_Lists)\n",
    "    '''\n",
    "    \n",
    "    headlen = len(lol[0])\n",
    "    for i in lol:\n",
    "        if len(i) != headlen:\n",
    "            print('Found Row with index number : ',end='')\n",
    "            print(lol.index(i))\n",
    "            print(i)"
   ]
  },
  {
   "cell_type": "code",
   "execution_count": 7,
   "metadata": {
    "collapsed": false
   },
   "outputs": [
    {
     "name": "stdout",
     "output_type": "stream",
     "text": [
      "Found Row with index number : 10473\n",
      "['Life Made WI-Fi Touchscreen Photo Frame', '1.9', '19', '3.0M', '1,000+', 'Free', '0', 'Everyone', '', 'February 11, 2018', '1.0.19', '4.0 and up']\n"
     ]
    }
   ],
   "source": [
    "missFinder(csv2lol(\"googleplaystore.csv\"))"
   ]
  },
  {
   "cell_type": "code",
   "execution_count": 8,
   "metadata": {
    "collapsed": false,
    "scrolled": true
   },
   "outputs": [],
   "source": [
    "missFinder(csv2lol(\"AppleStore.csv\"))"
   ]
  },
  {
   "cell_type": "code",
   "execution_count": 9,
   "metadata": {
    "collapsed": true
   },
   "outputs": [],
   "source": [
    "# this Func. finds EMPTY data points:\n",
    "\n",
    "def empFinder(lol):\n",
    "        \n",
    "    '''\n",
    "    Description:\n",
    "        Prints rows with empty data points along\n",
    "        with their index,\n",
    "        expects 1 argument:\n",
    "            Dataset Name. (List of Lists)\n",
    "               \n",
    "    Usage:\n",
    "        empFinder(Dataset_as_List_of_Lists)\n",
    "    '''\n",
    "    \n",
    "    for i in lol:\n",
    "        for j in i:\n",
    "            if not len(j):\n",
    "                print('Found Row with index number : ',end='')\n",
    "                print(lol.index(i))\n",
    "                print(i)"
   ]
  },
  {
   "cell_type": "code",
   "execution_count": 10,
   "metadata": {
    "collapsed": false
   },
   "outputs": [
    {
     "name": "stdout",
     "output_type": "stream",
     "text": [
      "Found Row with index number : 1554\n",
      "['Market Update Helper', 'LIBRARIES_AND_DEMO', '4.1', '20145', '11k', '1,000,000+', 'Free', '0', 'Everyone', 'Libraries & Demo', 'February 12, 2013', '', '1.5 and up']\n",
      "Found Row with index number : 10473\n",
      "['Life Made WI-Fi Touchscreen Photo Frame', '1.9', '19', '3.0M', '1,000+', 'Free', '0', 'Everyone', '', 'February 11, 2018', '1.0.19', '4.0 and up']\n"
     ]
    }
   ],
   "source": [
    "empFinder(csv2lol(\"googleplaystore.csv\"))"
   ]
  },
  {
   "cell_type": "code",
   "execution_count": 11,
   "metadata": {
    "collapsed": false,
    "scrolled": true
   },
   "outputs": [],
   "source": [
    "empFinder(csv2lol(\"AppleStore.csv\"))"
   ]
  },
  {
   "cell_type": "markdown",
   "metadata": {},
   "source": [
    "### Next, Data Cleaning:\n",
    "- Remove Apps w/ missing data.\n",
    "- Remove non-English apps.\n",
    "- Remove non-free apps.\n",
    "- Remove Duplicates."
   ]
  },
  {
   "cell_type": "code",
   "execution_count": 12,
   "metadata": {
    "collapsed": false,
    "scrolled": true
   },
   "outputs": [
    {
     "name": "stdout",
     "output_type": "stream",
     "text": [
      "1655\n",
      "1701\n",
      "1751\n",
      "1873\n",
      "1873\n",
      "3897\n"
     ]
    }
   ],
   "source": [
    "# search for repeated App data\n",
    "\n",
    "apps_data = csv2lol(\"googleplaystore.csv\")\n",
    "\n",
    "for x in apps_data:\n",
    "    if x[0] == 'Subway Surfers':\n",
    "        print(apps_data.index(x))\n"
   ]
  },
  {
   "cell_type": "markdown",
   "metadata": {},
   "source": [
    "# ^ This Has A bug :("
   ]
  }
 ],
 "metadata": {
  "kernelspec": {
   "display_name": "Python 3",
   "language": "python",
   "name": "python3"
  },
  "language_info": {
   "codemirror_mode": {
    "name": "ipython",
    "version": 3
   },
   "file_extension": ".py",
   "mimetype": "text/x-python",
   "name": "python",
   "nbconvert_exporter": "python",
   "pygments_lexer": "ipython3",
   "version": "3.4.3"
  }
 },
 "nbformat": 4,
 "nbformat_minor": 2
}
