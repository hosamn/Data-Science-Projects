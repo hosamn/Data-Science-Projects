{
 "cells": [
  {
   "cell_type": "markdown",
   "metadata": {},
   "source": [
    "# Mobile App Analysis:\n",
    "#### aka: Profitable App Profiles for AppStore and Google Play Markets\n",
    "--------------\n",
    "\n",
    "* This is a Data Analysis project where I analyze two sources of data:\n",
    "\n",
    "  1. The Apple Appstore dataset available at [Kaggle](https://www.kaggle.com/ramamet4/app-store-apple-data-set-10k-apps/version/2), and\n",
    "  2. The Google Play store dateset available also at [Kaggle](https://www.kaggle.com/lava18/google-play-store-apps).\n",
    "\n",
    "\n",
    "* The goal is to understand and identify the types of *free* mobile apps that are most likely to attract more users over time.\n"
   ]
  },
  {
   "cell_type": "markdown",
   "metadata": {},
   "source": [
    "### First, general Exploration:"
   ]
  },
  {
   "cell_type": "code",
   "execution_count": 1,
   "metadata": {
    "collapsed": false
   },
   "outputs": [],
   "source": [
    "# This is a csv to list of lists func.:\n",
    "\n",
    "def csv2lol(csvFile,trim_headers=0):\n",
    "    \n",
    "    '''\n",
    "    Description:\n",
    "        A \"CSV\" to \"list of lists\" Function,\n",
    "        expects 2 arguments:\n",
    "            1. Dataset CSV File Path+Name. (String)\n",
    "            2. Should the headers be removed.\n",
    "               (Boolean, Optional, Defaults to False)\n",
    "    \n",
    "    Usage:\n",
    "        csv2lol(\"googleplaystore.csv\")\n",
    "        csv2lol(\"googleplaystore.csv\",1)\n",
    "    '''\n",
    "    opFile = open(csvFile, encoding=\"utf8\")\n",
    "    from csv import reader\n",
    "    rFile = reader(opFile)\n",
    "    lol = list(rFile)\n",
    "    if trim_headers:\n",
    "        return lol[1:]\n",
    "    else:\n",
    "        return lol"
   ]
  },
  {
   "cell_type": "code",
   "execution_count": 2,
   "metadata": {
    "collapsed": true
   },
   "outputs": [],
   "source": [
    "gStoreLol = csv2lol(\"googleplaystore.csv\")"
   ]
  },
  {
   "cell_type": "code",
   "execution_count": 3,
   "metadata": {
    "collapsed": true
   },
   "outputs": [],
   "source": [
    "aStoreLol = csv2lol(\"AppleStore.csv\")"
   ]
  },
  {
   "cell_type": "markdown",
   "metadata": {},
   "source": [
    "#### Explore these in python shell :  globals() locals() dir() keys()"
   ]
  },
  {
   "cell_type": "code",
   "execution_count": 112,
   "metadata": {
    "collapsed": false
   },
   "outputs": [],
   "source": [
    "# This is a data exploration func.:\n",
    "\n",
    "def dataScan(dataset,start=0,end=0,general_info=1):\n",
    "    \n",
    "    '''\n",
    "    Description:\n",
    "        Data exploration Function that prints some data\n",
    "        and some general info,\n",
    "        expects 4 arguments:\n",
    "            1. Dataset Name.\n",
    "               (List of Lists)\n",
    "            2. Where to start.\n",
    "               (int, Optional)\n",
    "            3. Where to End, sholud be greater than start.\n",
    "               (int, Optional)\n",
    "            4. Print General info?\n",
    "               (Boolean, Optional, Defaults to True)\n",
    "    \n",
    "    Usage:\n",
    "        dataScan(dataset)        Prints General Info Only\n",
    "        dataScan(dataset,1,5,0)  Prints the first 4 rows only\n",
    "    '''\n",
    "    print('========================================')\n",
    "\n",
    "    def namestr(obj, namespace=globals()):\n",
    "        return [i for i in namespace if namespace[i] is obj]\n",
    "    \n",
    "    if general_info:\n",
    "        print('Dataset General Info :\\n====================')\n",
    "        print('Dataset =',namestr(dataset))\n",
    "        print('Columns = '+str(len(dataset[0])))\n",
    "        print('Rows    = '+str(len(dataset))+'   (including headers if present)')\n",
    "        print('\\n')\n",
    "        print('Dataset Header : ')\n",
    "        print(dataset[0])\n",
    "        print('\\n')\n",
    "\n",
    "    if start<end:\n",
    "        print(\"Requested Data (%s Rows) :\\n=======================\"%(end-start))\n",
    "        for i in dataset[start:end]:\n",
    "            print(i)\n",
    "    else:\n",
    "        print('No Data Requested.')\n",
    "        print('to get some data set the start and end arguments, eg:')\n",
    "        print('dataScan(dataset,1,5,0)  Prints the first 4 rows only')\n",
    "    print('========================================')"
   ]
  },
  {
   "cell_type": "code",
   "execution_count": 5,
   "metadata": {
    "collapsed": true
   },
   "outputs": [],
   "source": [
    "# help(csv2lol)\n",
    "# print('\\n')\n",
    "# help(dataScan)\n",
    "\n",
    "# dataScan(csv2lol(\"googleplaystore.csv\"))\n",
    "# dataScan(csv2lol(\"AppleStore.csv\"),0,0,0)"
   ]
  },
  {
   "cell_type": "code",
   "execution_count": 113,
   "metadata": {
    "collapsed": false,
    "scrolled": false
   },
   "outputs": [
    {
     "name": "stdout",
     "output_type": "stream",
     "text": [
      "========================================\n",
      "Dataset General Info :\n",
      "====================\n",
      "Dataset = ['gStoreLol']\n",
      "Columns = 13\n",
      "Rows    = 9660   (including headers if present)\n",
      "\n",
      "\n",
      "Dataset Header : \n",
      "['App', 'Category', 'Rating', 'Reviews', 'Size', 'Installs', 'Type', 'Price', 'Content Rating', 'Genres', 'Last Updated', 'Current Ver', 'Android Ver']\n",
      "\n",
      "\n",
      "Requested Data (1 Rows) :\n",
      "=======================\n",
      "['Chakra Cleansing', 'LIBRARIES_AND_DEMO', '4.6', '539', '99M', '50,000+', 'Free', '0', 'Everyone', 'Libraries & Demo', 'August 2, 2018', '7.0', '4.0.3 and up']\n",
      "========================================\n"
     ]
    }
   ],
   "source": [
    "dataScan(gStoreLol,1,2)"
   ]
  },
  {
   "cell_type": "code",
   "execution_count": 7,
   "metadata": {
    "collapsed": false
   },
   "outputs": [
    {
     "name": "stdout",
     "output_type": "stream",
     "text": [
      "========================================\n",
      "Dataset General Info :\n",
      "====================\n",
      "Dataset = ['aStoreLol']\n",
      "Columns = 16\n",
      "Rows    = 7198   (including headers if present)\n",
      "\n",
      "\n",
      "Dataset Header : \n",
      "['id', 'track_name', 'size_bytes', 'currency', 'price', 'rating_count_tot', 'rating_count_ver', 'user_rating', 'user_rating_ver', 'ver', 'cont_rating', 'prime_genre', 'sup_devices.num', 'ipadSc_urls.num', 'lang.num', 'vpp_lic']\n",
      "\n",
      "\n",
      "Requested Data (1 Rows) :\n",
      "=======================\n",
      "['284882215', 'Facebook', '389879808', 'USD', '0.0', '2974676', '212', '3.5', '3.5', '95.0', '4+', 'Social Networking', '37', '1', '29', '1']\n",
      "========================================\n"
     ]
    }
   ],
   "source": [
    "dataScan(aStoreLol,1,2)"
   ]
  },
  {
   "cell_type": "markdown",
   "metadata": {},
   "source": [
    "++++++++++++++++++++++++++++++++++++++++++++++++++++++++++++++++\n",
    "\n",
    "### Next, Error Analysis:\n",
    "- Find Apps w/ missing data points.\n",
    "- Find Apps w/ empty data points.\n",
    "- Find non-English apps.\n",
    "- Find non-free apps.\n",
    "- Find Duplicates."
   ]
  },
  {
   "cell_type": "code",
   "execution_count": 114,
   "metadata": {
    "collapsed": true
   },
   "outputs": [],
   "source": [
    "# this Func. finds MISSING data points:\n",
    "\n",
    "def missFinder(lol):\n",
    "        \n",
    "    '''\n",
    "    Description:\n",
    "        Prints rows with missing data along\n",
    "        with their index, by comparing every\n",
    "        row's length to header row's length,\n",
    "        expects 1 argument:\n",
    "            Dataset Name. (List of Lists)\n",
    "               \n",
    "    Usage:\n",
    "        missFinder(Dataset_as_List_of_Lists)\n",
    "    '''\n",
    "    \n",
    "    headerlen = len(lol[0])\n",
    "    for i in lol:\n",
    "        if len(i) != headerlen:\n",
    "            print('Found Row with index number : ',lol.index(i))\n",
    "            print(i)"
   ]
  },
  {
   "cell_type": "code",
   "execution_count": 115,
   "metadata": {
    "collapsed": false
   },
   "outputs": [],
   "source": [
    "missFinder(gStoreLol)"
   ]
  },
  {
   "cell_type": "code",
   "execution_count": 10,
   "metadata": {
    "collapsed": true
   },
   "outputs": [],
   "source": [
    "del gStoreLol[10473]"
   ]
  },
  {
   "cell_type": "code",
   "execution_count": 11,
   "metadata": {
    "collapsed": false
   },
   "outputs": [],
   "source": [
    "missFinder(gStoreLol)"
   ]
  },
  {
   "cell_type": "code",
   "execution_count": 12,
   "metadata": {
    "collapsed": false,
    "scrolled": true
   },
   "outputs": [],
   "source": [
    "missFinder(aStoreLol)"
   ]
  },
  {
   "cell_type": "code",
   "execution_count": 13,
   "metadata": {
    "collapsed": true
   },
   "outputs": [],
   "source": [
    "# this Func. finds EMPTY data points:\n",
    "\n",
    "def empFinder(lol):\n",
    "        \n",
    "    '''\n",
    "    Description:\n",
    "        Prints rows with empty data points along\n",
    "        with their index,\n",
    "        expects 1 argument:\n",
    "            Dataset Name. (List of Lists)\n",
    "               \n",
    "    Usage:\n",
    "        empFinder(Dataset_as_List_of_Lists)\n",
    "    '''\n",
    "    \n",
    "    for i in lol:\n",
    "        for j in i:\n",
    "            if not len(j):\n",
    "                print('Found Row with index number : ',end='')\n",
    "                print(lol.index(i))\n",
    "                print(i)"
   ]
  },
  {
   "cell_type": "code",
   "execution_count": 14,
   "metadata": {
    "collapsed": false
   },
   "outputs": [
    {
     "name": "stdout",
     "output_type": "stream",
     "text": [
      "Found Row with index number : 1554\n",
      "['Market Update Helper', 'LIBRARIES_AND_DEMO', '4.1', '20145', '11k', '1,000,000+', 'Free', '0', 'Everyone', 'Libraries & Demo', 'February 12, 2013', '', '1.5 and up']\n",
      "Found Row with index number : 10473\n",
      "['Life Made WI-Fi Touchscreen Photo Frame', '1.9', '19', '3.0M', '1,000+', 'Free', '0', 'Everyone', '', 'February 11, 2018', '1.0.19', '4.0 and up']\n"
     ]
    }
   ],
   "source": [
    "empFinder(csv2lol(\"googleplaystore.csv\"))"
   ]
  },
  {
   "cell_type": "code",
   "execution_count": 15,
   "metadata": {
    "collapsed": false,
    "scrolled": true
   },
   "outputs": [],
   "source": [
    "empFinder(csv2lol(\"AppleStore.csv\"))"
   ]
  },
  {
   "cell_type": "markdown",
   "metadata": {},
   "source": [
    "--------------------------------------------"
   ]
  },
  {
   "cell_type": "code",
   "execution_count": 16,
   "metadata": {
    "collapsed": false,
    "scrolled": true
   },
   "outputs": [
    {
     "name": "stdout",
     "output_type": "stream",
     "text": [
      "1655\n",
      "1701\n",
      "1751\n",
      "1873\n",
      "1918\n",
      "3897\n"
     ]
    }
   ],
   "source": [
    "# repeated App data Example:\n",
    "\n",
    "apps_data = csv2lol(\"googleplaystore.csv\")\n",
    "\n",
    "counter=0\n",
    "for x in apps_data:\n",
    "    if x[0] == 'Subway Surfers':\n",
    "#         print(apps_data.index(x),end=\" \")\n",
    "#         print('should be ',end='')\n",
    "        print(counter)\n",
    "    counter+=1"
   ]
  },
  {
   "cell_type": "markdown",
   "metadata": {},
   "source": [
    "~~~^ This Has A bug :(~~~\n",
    "\n",
    "The problem was the repeated result out of the loop,\n",
    "and the reason was the nature of the \".index\" method\n",
    "as it searches and reports the index of the `FIRST`\n",
    "occurance of its input, and the whole line at index 1873\n",
    "was exactly repeated again at 1918 !!\n",
    "\n",
    "\n",
    "### So `.index` is not dependable for this context !!!\n",
    "\n",
    "--------------------------------------------\n"
   ]
  },
  {
   "cell_type": "code",
   "execution_count": 17,
   "metadata": {
    "collapsed": false,
    "scrolled": false
   },
   "outputs": [
    {
     "data": {
      "text/plain": [
       "1181"
      ]
     },
     "execution_count": 17,
     "metadata": {},
     "output_type": "execute_result"
    }
   ],
   "source": [
    "# search for and count repeated App names\n",
    "\n",
    "apps_data = csv2lol(\"googleplaystore.csv\")\n",
    "\n",
    "namesList = [i[0] for i in apps_data[1:]]\n",
    "\n",
    "namesList.sort()\n",
    "# This have a None Return!, it just sorts the list itself!\n",
    "\n",
    "# print(namesList[0:5])\n",
    "repList=[]\n",
    "for i in range(len(namesList)-1):\n",
    "    if namesList[i+1] == namesList[i]:\n",
    "#         print(namesList[i+1])\n",
    "        repList.append(namesList[i+1])\n",
    "len(repList)"
   ]
  },
  {
   "cell_type": "code",
   "execution_count": 18,
   "metadata": {
    "collapsed": false,
    "scrolled": false
   },
   "outputs": [
    {
     "data": {
      "text/plain": [
       "483"
      ]
     },
     "execution_count": 18,
     "metadata": {},
     "output_type": "execute_result"
    }
   ],
   "source": [
    "# search for and count repeated App data\n",
    "\n",
    "apps_data = csv2lol(\"googleplaystore.csv\")\n",
    "\n",
    "apps_data.sort()\n",
    "\n",
    "dupList=[]\n",
    "\n",
    "for i in range(len(apps_data)-1):\n",
    "    if apps_data[i+1] == apps_data[i]:\n",
    "#         print(apps_data[i+1])\n",
    "        dupList.append(apps_data[i+1])\n",
    "len(dupList)"
   ]
  },
  {
   "cell_type": "markdown",
   "metadata": {},
   "source": [
    "## Here I'll  search for and count repeated App data (Whole Rows):\n",
    "\n",
    "I think those are safe to remove directly!"
   ]
  },
  {
   "cell_type": "code",
   "execution_count": 19,
   "metadata": {
    "collapsed": false
   },
   "outputs": [
    {
     "name": "stdout",
     "output_type": "stream",
     "text": [
      "10357 Unique Rows, may have duplicate apps with changed ratings\n",
      "483   Duplicate Apps (Rows), those are exact row duplicates\n",
      "\n",
      "Now gstore is completely free of exact dups\n",
      "10358\n"
     ]
    }
   ],
   "source": [
    "# search for and count repeated App data (Whole Rows)\n",
    "# Each row is checked if it was seen before\n",
    "\n",
    "xunique = []\n",
    "xduplicates = []\n",
    "\n",
    "for row in gStoreLol[1:]:\n",
    "    if row in xunique : xduplicates.append(row)\n",
    "    else : xunique.append(row)\n",
    "        \n",
    "print(len(xunique),end=' '); print('Unique Rows, may have duplicate apps with changed ratings')\n",
    "print(len(xduplicates),end='   '); print('Duplicate Apps (Rows), those are exact row duplicates')\n",
    "\n",
    "gStoreLol[1:] = xunique\n",
    "\n",
    "print('\\nNow gstore is completely free of exact dups')\n",
    "print(len(gStoreLol))\n"
   ]
  },
  {
   "cell_type": "markdown",
   "metadata": {},
   "source": [
    "## This is a demonstration of the other duplication present in the app data:"
   ]
  },
  {
   "cell_type": "code",
   "execution_count": 20,
   "metadata": {
    "collapsed": false
   },
   "outputs": [
    {
     "name": "stdout",
     "output_type": "stream",
     "text": [
      "9659 Unique App Names\n",
      "698  Duplicate App Names\n"
     ]
    }
   ],
   "source": [
    "# search for and count repeated App names\n",
    "\n",
    "unique = []\n",
    "duplicates = []\n",
    "\n",
    "for i in gStoreLol[1:]:\n",
    "    appName = i[0]\n",
    "    if appName in unique : duplicates.append(appName)\n",
    "    else : unique.append(appName)\n",
    "\n",
    "print(len(unique),end=' '); print('Unique App Names')\n",
    "print(len(duplicates),end='  '); print('Duplicate App Names')"
   ]
  },
  {
   "cell_type": "code",
   "execution_count": 21,
   "metadata": {
    "collapsed": false
   },
   "outputs": [
    {
     "name": "stdout",
     "output_type": "stream",
     "text": [
      "['Quick PDF Scanner + OCR FREE', 'BUSINESS', '4.2', '80805', 'Varies with device', '5,000,000+', 'Free', '0', 'Everyone', 'Business', 'February 26, 2018', 'Varies with device', '4.0.3 and up']\n",
      "['Quick PDF Scanner + OCR FREE', 'BUSINESS', '4.2', '80804', 'Varies with device', '5,000,000+', 'Free', '0', 'Everyone', 'Business', 'February 26, 2018', 'Varies with device', '4.0.3 and up']\n"
     ]
    }
   ],
   "source": [
    "for i in gStoreLol[1:]:\n",
    "    if i[0] == duplicates[0]: print(i)"
   ]
  },
  {
   "cell_type": "markdown",
   "metadata": {},
   "source": [
    "## A criteria for removing duplicate Names :\n",
    "\n",
    "- we can keep apps with higher Version number.\n",
    "- we can keep apps with higher rating as this means they are newer."
   ]
  },
  {
   "cell_type": "markdown",
   "metadata": {},
   "source": [
    "## How we are removing rows that have duplicate app names with different ratings:\n",
    "\n",
    "1. New Dict. > Find Names of all apps => namesDict.keys.\n",
    "\n",
    "2. For each app {.} find max ratings [[.]] => namesDict.values.\n",
    "\n",
    "3. create a new myList.\n",
    "\n",
    "4. for each app (key) & max rating (value) in {myDups} matching with name and rating in gStoreLol, add new row in [[myList]] with matching row."
   ]
  },
  {
   "cell_type": "code",
   "execution_count": 22,
   "metadata": {
    "collapsed": false
   },
   "outputs": [
    {
     "name": "stdout",
     "output_type": "stream",
     "text": [
      "9659 Unique App Names\n",
      "6  Duplicate App Names\n",
      "\n",
      "All Dups:\n",
      "['Candy Bomb', 'GAME', '4.4', '42145', '20M', '10,000,000+', 'Free', '0', 'Everyone', 'Casual;Brain Games', 'July 4, 2018', '2.9.3181', '4.0.3 and up']\n",
      "\n",
      "\n",
      "\n",
      "['Candy Bomb', 'FAMILY', '4.4', '42145', '20M', '10,000,000+', 'Free', '0', 'Everyone', 'Casual;Brain Games', 'July 4, 2018', '2.9.3181', '4.0.3 and up']\n",
      "\n",
      "\n",
      "\n",
      "['osmino Wi-Fi: free WiFi', 'TOOLS', '4.2', '134203', '4.1M', '10,000,000+', 'Free', '0', 'Everyone', 'Tools', 'August 6, 2018', '6.06.14', '4.4 and up']\n",
      "\n",
      "\n",
      "\n",
      "['osmino Wi-Fi: free WiFi', 'TOOLS', '4.2', '134203', '4.1M', '10,000,000+', 'Free', '0', 'Everyone', 'Tools', 'August 7, 2018', '6.06.14', '4.4 and up']\n",
      "\n",
      "\n",
      "\n",
      "['Learn C++', 'EDUCATION', '4.6', '73404', '5.3M', '1,000,000+', 'Free', '0', 'Everyone', 'Education', 'December 25, 2017', '4.5.2', '4.0 and up']\n",
      "\n",
      "\n",
      "\n",
      "['Learn C++', 'FAMILY', '4.6', '73404', '5.3M', '1,000,000+', 'Free', '0', 'Everyone', 'Education', 'December 25, 2017', '4.5.2', '4.0 and up']\n",
      "\n",
      "\n",
      "\n",
      "['Target - now with Cartwheel', 'SHOPPING', '4.1', '68406', '24M', '10,000,000+', 'Free', '0', 'Everyone', 'Shopping', 'July 25, 2018', '6.25.0+1906001476', '5.0 and up']\n",
      "\n",
      "\n",
      "\n",
      "['Target - now with Cartwheel', 'SHOPPING', '4.1', '68406', '24M', '10,000,000+', 'Free', '0', 'Everyone', 'Shopping', 'August 6, 2018', '6.25.0+1906001476', '5.0 and up']\n",
      "\n",
      "\n",
      "\n",
      "['YouTube Gaming', 'ENTERTAINMENT', '4.2', '130549', 'Varies with device', '5,000,000+', 'Free', '0', 'Teen', 'Entertainment', 'June 27, 2018', '2.08.78.2', '4.1 and up']\n",
      "\n",
      "\n",
      "\n",
      "['YouTube Gaming', 'FAMILY', '4.2', '130549', 'Varies with device', '5,000,000+', 'Free', '0', 'Teen', 'Entertainment', 'June 27, 2018', '2.08.78.2', '4.1 and up']\n",
      "\n",
      "\n",
      "\n",
      "['Fuzzy Numbers: Pre-K Number Foundation', 'EDUCATION', '4.7', '21', '44M', '1,000+', 'Paid', '$5.99', 'Everyone', 'Education;Education', 'July 21, 2017', '1.3', '4.1 and up']\n",
      "\n",
      "\n",
      "\n",
      "['Fuzzy Numbers: Pre-K Number Foundation', 'FAMILY', '4.7', '21', '44M', '1,000+', 'Paid', '$5.99', 'Everyone', 'Education;Education', 'July 21, 2017', '1.3', '4.1 and up']\n",
      "\n",
      "\n",
      "\n"
     ]
    }
   ],
   "source": [
    "# deleting repeated App names with lower rating counts\n",
    "\n",
    "unique = []\n",
    "duplicates = []\n",
    "\n",
    "namesDict = {}\n",
    "myList = []\n",
    "\n",
    "\n",
    "# Fill unique,duplicates:\n",
    "\n",
    "for i in gStoreLol[1:]:\n",
    "    appName = i[0]\n",
    "    if appName in unique : duplicates.append(appName)\n",
    "    else : unique.append(appName)\n",
    "\n",
    "# Fill namesDict key with unique app names, and 0 values:\n",
    "\n",
    "for i in gStoreLol[1:]:\n",
    "    if not i[0] in namesDict: namesDict[i[0]] = 0\n",
    "\n",
    "# Fill namesDict Values with MaxRating for each app:\n",
    "\n",
    "for app,rate in namesDict.items():\n",
    "    for row in gStoreLol[1:]:\n",
    "        if app == row[0] and rate < int(row[3]):\n",
    "            namesDict[app] = int(row[3])\n",
    "\n",
    "# print(namesDict)\n",
    "# namesDict : {( AppName : MaxRatings ),...}\n",
    "            \n",
    "# Fill a new list newList with rows of max value:\n",
    "\n",
    "for k,v in namesDict.items():\n",
    "    for row in gStoreLol[1:]:\n",
    "        if k == row[0] and v == int(row[3]):\n",
    "            myList.append(row)\n",
    "\n",
    "\n",
    "gStoreLol[1:] = myList\n",
    "\n",
    "\n",
    "\n",
    "# this leaves 6 rows with various diffs other than the rating:\n",
    "\n",
    "unique = []\n",
    "duplicates = []\n",
    "\n",
    "for i in gStoreLol[1:]:\n",
    "    appName = i[0]\n",
    "    if appName in unique : duplicates.append(appName)\n",
    "    else : unique.append(appName)\n",
    "\n",
    "print(len(unique),end=' '); print('Unique App Names')\n",
    "print(len(duplicates),end='  '); print('Duplicate App Names')\n",
    "\n",
    "# print('Dups:')\n",
    "# print(duplicates)\n",
    "\n",
    "print('\\nAll Dups:')\n",
    "\n",
    "for i in gStoreLol[1:]:\n",
    "    for j in duplicates:\n",
    "        if j == i[0]:\n",
    "            print(i)\n",
    "            print('\\n\\n')"
   ]
  },
  {
   "cell_type": "code",
   "execution_count": 23,
   "metadata": {
    "collapsed": false
   },
   "outputs": [
    {
     "name": "stdout",
     "output_type": "stream",
     "text": [
      "9660\n",
      "9659\n"
     ]
    }
   ],
   "source": [
    "# will del the 6 repeated rows after visual inspection:\n",
    "\n",
    "del(gStoreLol[gStoreLol.index(['Fuzzy Numbers: Pre-K Number Foundation', 'FAMILY', '4.7', '21', '44M', '1,000+', 'Paid', '$5.99', 'Everyone', 'Education;Education', 'July 21, 2017', '1.3', '4.1 and up'])])\n",
    "del(gStoreLol[gStoreLol.index(['Candy Bomb', 'FAMILY', '4.4', '42145', '20M', '10,000,000+', 'Free', '0', 'Everyone', 'Casual;Brain Games', 'July 4, 2018', '2.9.3181', '4.0.3 and up'])])\n",
    "del(gStoreLol[gStoreLol.index(['Learn C++', 'FAMILY', '4.6', '73404', '5.3M', '1,000,000+', 'Free', '0', 'Everyone', 'Education', 'December 25, 2017', '4.5.2', '4.0 and up'])])\n",
    "del(gStoreLol[gStoreLol.index(['osmino Wi-Fi: free WiFi', 'TOOLS', '4.2', '134203', '4.1M', '10,000,000+', 'Free', '0', 'Everyone', 'Tools', 'August 6, 2018', '6.06.14', '4.4 and up'])])\n",
    "del(gStoreLol[gStoreLol.index(['YouTube Gaming', 'FAMILY', '4.2', '130549', 'Varies with device', '5,000,000+', 'Free', '0', 'Teen', 'Entertainment', 'June 27, 2018', '2.08.78.2', '4.1 and up'])])\n",
    "del(gStoreLol[gStoreLol.index(['Target - now with Cartwheel', 'SHOPPING', '4.1', '68406', '24M', '10,000,000+', 'Free', '0', 'Everyone', 'Shopping', 'July 25, 2018', '6.25.0+1906001476', '5.0 and up'])])\n",
    "\n",
    "\n",
    "print(len(gStoreLol))\n",
    "# print(gStoreLol[0:5])\n",
    "\n",
    "clean_android = gStoreLol[1:]\n",
    "\n",
    "print(len(clean_android))\n",
    "# print(clean_android[0:5])"
   ]
  },
  {
   "cell_type": "code",
   "execution_count": 24,
   "metadata": {
    "collapsed": false
   },
   "outputs": [
    {
     "name": "stdout",
     "output_type": "stream",
     "text": [
      "True\n",
      "False\n",
      "False\n",
      "False\n"
     ]
    }
   ],
   "source": [
    "# Function that returns flase if there is any character\n",
    "# in the input string that doesn't belong to the set\n",
    "# of common English characters, otherwise it returns True.\n",
    "\n",
    "def isEng(inStr):\n",
    "    for i in inStr:\n",
    "        if ord(i) > 127:\n",
    "            return False\n",
    "    return True\n",
    "\n",
    "print(isEng('Instagram'))\n",
    "print(isEng('爱奇艺PPS -《欢乐颂2》电视剧热播'))\n",
    "print(isEng('Docs To Go™ Free Office Suite'))\n",
    "print(isEng('Instachat 😜'))\n"
   ]
  },
  {
   "cell_type": "code",
   "execution_count": 25,
   "metadata": {
    "collapsed": false,
    "scrolled": true
   },
   "outputs": [
    {
     "name": "stdout",
     "output_type": "stream",
     "text": [
      "True\n",
      "False\n",
      "True\n",
      "True\n"
     ]
    }
   ],
   "source": [
    "# Same Function, but allows up to three characters \n",
    "# that fall outside the ASCII range (0 - 127)  \n",
    "\n",
    "def isEng(inStr):\n",
    "    z = 0\n",
    "    for i in inStr:\n",
    "        if ord(i) > 127:\n",
    "            z+=1\n",
    "            if z > 3 :\n",
    "                return False \n",
    "    return True\n",
    "\n",
    "print(isEng('Instagram'))\n",
    "print(isEng('爱奇艺PPS -《欢乐颂2》电视剧热播'))\n",
    "print(isEng('Docs To Go™ Free Office Suite'))\n",
    "print(isEng('Instachat 😜'))\n"
   ]
  },
  {
   "cell_type": "markdown",
   "metadata": {},
   "source": [
    "### Now we Use the new isEng function to filter out non-English apps from both data sets.\n",
    "\n",
    "- We Loop through each data set. If an app name is identified as English, we append the whole row to a new list.\n",
    "\n",
    "- Then we Explore the data sets and see how many rows in each data set.\n"
   ]
  },
  {
   "cell_type": "code",
   "execution_count": 26,
   "metadata": {
    "collapsed": false,
    "scrolled": true
   },
   "outputs": [
    {
     "name": "stdout",
     "output_type": "stream",
     "text": [
      "Removed:45\n",
      "Remaining:9614\n"
     ]
    }
   ],
   "source": [
    "engGoogle = []\n",
    "\n",
    "for i in clean_android:\n",
    "    if isEng(i[0]) : engGoogle.append(i)\n",
    "#     else: print(i[0],end=''); print('  is Excluded')\n",
    "\n",
    "\n",
    "print('Removed:',end=''); print(len(clean_android)-len(engGoogle))\n",
    "print('Remaining:',end=''); print(len(engGoogle))"
   ]
  },
  {
   "cell_type": "code",
   "execution_count": 27,
   "metadata": {
    "collapsed": false,
    "scrolled": true
   },
   "outputs": [
    {
     "name": "stdout",
     "output_type": "stream",
     "text": [
      "Removed:1014\n",
      "Remaining:6183\n"
     ]
    }
   ],
   "source": [
    "engApple  = []\n",
    "\n",
    "for i in aStoreLol[1:]:\n",
    "    if isEng(i[1]) : engApple.append(i)\n",
    "#     else: print(i[1],end=''); print('  is Excluded')\n",
    "\n",
    "print('Removed:',end='')\n",
    "print(len(aStoreLol[1:])-len(engApple))\n",
    "print('Remaining:',end='')\n",
    "print(len(engApple))"
   ]
  },
  {
   "cell_type": "markdown",
   "metadata": {},
   "source": [
    "### Now we remove Non Free Apps:"
   ]
  },
  {
   "cell_type": "code",
   "execution_count": 28,
   "metadata": {
    "collapsed": false,
    "scrolled": true
   },
   "outputs": [
    {
     "name": "stdout",
     "output_type": "stream",
     "text": [
      "Removed:750\n",
      "Remaining:8864\n"
     ]
    }
   ],
   "source": [
    "engFreeAndroid = []\n",
    "\n",
    "for i in engGoogle:\n",
    "    if i[7] == '0':\n",
    "        engFreeAndroid.append(i)\n",
    "\n",
    "        \n",
    "print('Removed:',end='')\n",
    "print(len(engGoogle)-len(engFreeAndroid))\n",
    "print('Remaining:',end='')\n",
    "print(len(engFreeAndroid))"
   ]
  },
  {
   "cell_type": "code",
   "execution_count": 29,
   "metadata": {
    "collapsed": false,
    "scrolled": true
   },
   "outputs": [
    {
     "name": "stdout",
     "output_type": "stream",
     "text": [
      "Removed:2961\n",
      "Remaining:8864\n"
     ]
    }
   ],
   "source": [
    "engFreeApple = []\n",
    "\n",
    "for i in engApple:\n",
    "#     if i[4] not in engFreeApple:\n",
    "#         engFreeApple.append(i[4])\n",
    "    if i[4] == '0.0':\n",
    "        engFreeApple.append(i)\n",
    "\n",
    "# print(engFreeApple)        \n",
    "print('Removed:',end='')\n",
    "print(len(engApple)-len(engFreeApple))\n",
    "print('Remaining:',end='')\n",
    "print(len(engFreeAndroid))"
   ]
  },
  {
   "cell_type": "markdown",
   "metadata": {},
   "source": [
    "--------\n",
    "So far in the data cleaning process, we:\n",
    "\n",
    "- Removed inaccurate data\n",
    "- Removed duplicate app entries\n",
    "- Removed non-English apps\n",
    "- Removed Non-Free Apps\n",
    "\n",
    "\n",
    "our aim is to determine the kinds of apps that are likely to attract more users because our revenue is highly influenced by the number of people using our apps.\n",
    "\n",
    "To minimize risks and overhead, our validation strategy for an app idea is comprised of three steps:\n",
    "\n",
    "1. Build a minimal Android version of the app, and add it to Google Play.\n",
    "2. If the app has a good response from users, we develop it further.\n",
    "3. If the app is profitable after six months, we build an iOS version of the app and add it to the App Store.\n",
    "\n",
    "Because our end goal is to add the app on both Google Play and the App Store, we need to find app profiles that are successful on both markets. For instance, a profile that works well for both markets might be a productivity app that makes use of gamification.\n",
    "\n",
    "---------"
   ]
  },
  {
   "cell_type": "markdown",
   "metadata": {},
   "source": [
    "## Data Analysis\n",
    "\n",
    "### what are the most common genres for each market?\n",
    "\n",
    "For this, we'll need to build frequency tables for a few columns in our data sets.\n",
    "\n",
    "----------\n",
    "\n",
    "#### Android Columns (engFreeAndroid Dataset Headers) : \n",
    "\n",
    "['App', 'Category', 'Rating', 'Reviews', 'Size', 'Installs', 'Type', 'Price', 'Content Rating', 'Genres', 'Last Updated', 'Current Ver', 'Android Ver']\n",
    "\n",
    "> we can use column indexs (1,2,6,8,9) for frequency tables, \n",
    "> lets start with Category and Genres @ indexes (1,9)\n",
    "\n",
    "-----------\n",
    "\n",
    "#### iOS Columns (engFreeApple Dataset Headers) :\n",
    "\n",
    "['id', 'track_name', 'size_bytes', 'currency', 'price', 'rating_count_tot', 'rating_count_ver', 'user_rating', 'user_rating_ver', 'ver', 'cont_rating', 'prime_genre', 'sup_devices.num', 'ipadSc_urls.num', 'lang.num', 'vpp_lic']\n",
    "\n",
    "> we can use column indexs (7,8,10,11) for frequency tables, \n",
    "> lets start with prime_genre @ index(11)"
   ]
  },
  {
   "cell_type": "code",
   "execution_count": 30,
   "metadata": {
    "collapsed": true
   },
   "outputs": [],
   "source": [
    "# Generates A Frequency Table from given dataset\n",
    "# for the given column index.\n",
    "\n",
    "# takes in two inputs:\n",
    "# dataset (which is expected to be a list of lists)\n",
    "# and index (which is expected to be an integer).\n",
    "\n",
    "# I use the dictionary .get method \n",
    "\n",
    "# We can use get to write our histogram loop more concisely.\n",
    "# Because the get method automatically handles the case\n",
    "# where a key is not in a dictionary, we can reduce four\n",
    "# lines down to one and eliminate the if statement.\n",
    "\n",
    "# @ https://books.trinket.io/pfe/09-dictionaries.html#dictionaries-and-files\n",
    "\n",
    "\n",
    "# and list comprehension - not needed here\n",
    "\n",
    "def freqGen(dataset, idx):\n",
    "    freq = {}\n",
    "    for i in dataset:\n",
    "        j = i[idx]\n",
    "        freq[j] = freq.get(j,0) + 1\n",
    "\n",
    "#         if j in freq :\n",
    "#             freq[j] += 1\n",
    "#         else:\n",
    "#             freq[j] = 1\n",
    "\n",
    "#     calc Percentages:\n",
    "#     for x in freq: freq[x] = freq[x] / len(dataset) * 100\n",
    "    return freq"
   ]
  },
  {
   "cell_type": "code",
   "execution_count": 31,
   "metadata": {
    "collapsed": true
   },
   "outputs": [],
   "source": [
    "# to sort a dictionary:\n",
    "# Takes in two parameters: dataset and index. dataset is expected to be a list of lists, and index is expected to be an integer.\n",
    "# Generates a frequency table using the freq_table() function.\n",
    "# Transforms the frequency table into a list of tuples, then sorts the list in a descending order.\n",
    "# Prints the entries of the frequency table in descending order.\n",
    "\n",
    "\n",
    "def display_table(dataset, index):\n",
    "    table = freqGen(dataset, index)\n",
    "    table_display = []\n",
    "    for key in table:\n",
    "        key_val_as_tuple = (table[key], key)\n",
    "        table_display.append(key_val_as_tuple)\n",
    "\n",
    "    table_sorted = sorted(table_display, reverse = True)\n",
    "    for entry in table_sorted:\n",
    "        print(entry[1], ':', entry[0])"
   ]
  },
  {
   "cell_type": "code",
   "execution_count": 32,
   "metadata": {
    "collapsed": false
   },
   "outputs": [
    {
     "name": "stdout",
     "output_type": "stream",
     "text": [
      "FAMILY : 1704\n",
      "GAME : 843\n",
      "TOOLS : 750\n",
      "BUSINESS : 406\n",
      "LIFESTYLE : 346\n",
      "PRODUCTIVITY : 345\n",
      "FINANCE : 328\n",
      "MEDICAL : 314\n",
      "SPORTS : 303\n",
      "PERSONALIZATION : 294\n",
      "COMMUNICATION : 288\n",
      "HEALTH_AND_FITNESS : 272\n",
      "PHOTOGRAPHY : 261\n",
      "NEWS_AND_MAGAZINES : 248\n",
      "SOCIAL : 236\n",
      "TRAVEL_AND_LOCAL : 207\n",
      "SHOPPING : 199\n",
      "BOOKS_AND_REFERENCE : 190\n",
      "DATING : 165\n",
      "VIDEO_PLAYERS : 158\n",
      "MAPS_AND_NAVIGATION : 124\n",
      "FOOD_AND_DRINK : 110\n",
      "EDUCATION : 100\n",
      "LIBRARIES_AND_DEMO : 83\n",
      "AUTO_AND_VEHICLES : 82\n",
      "ENTERTAINMENT : 78\n",
      "HOUSE_AND_HOME : 73\n",
      "WEATHER : 71\n",
      "EVENTS : 63\n",
      "PARENTING : 58\n",
      "ART_AND_DESIGN : 57\n",
      "COMICS : 55\n",
      "BEAUTY : 53\n"
     ]
    }
   ],
   "source": [
    "# Histogram/Frquency Table for the 'Category' Column on Android:\n",
    "\n",
    "display_table(engFreeAndroid, 1)"
   ]
  },
  {
   "cell_type": "code",
   "execution_count": 33,
   "metadata": {
    "collapsed": false
   },
   "outputs": [
    {
     "name": "stdout",
     "output_type": "stream",
     "text": [
      "Tools : 749\n",
      "Entertainment : 538\n",
      "Education : 474\n",
      "Business : 406\n",
      "Productivity : 345\n",
      "Lifestyle : 345\n",
      "Finance : 328\n",
      "Medical : 314\n",
      "Sports : 307\n",
      "Personalization : 294\n",
      "Communication : 288\n",
      "Action : 275\n",
      "Health & Fitness : 272\n",
      "Photography : 261\n",
      "News & Magazines : 248\n",
      "Social : 236\n",
      "Travel & Local : 206\n",
      "Shopping : 199\n",
      "Books & Reference : 190\n",
      "Simulation : 181\n",
      "Dating : 165\n",
      "Arcade : 165\n",
      "Video Players & Editors : 158\n",
      "Casual : 155\n",
      "Maps & Navigation : 124\n",
      "Food & Drink : 110\n",
      "Puzzle : 100\n",
      "Racing : 88\n",
      "Role Playing : 83\n",
      "Libraries & Demo : 83\n",
      "Auto & Vehicles : 82\n",
      "Strategy : 81\n",
      "House & Home : 73\n",
      "Weather : 71\n",
      "Events : 63\n",
      "Adventure : 60\n",
      "Comics : 54\n",
      "Beauty : 53\n",
      "Art & Design : 53\n",
      "Parenting : 44\n",
      "Card : 39\n",
      "Casino : 38\n",
      "Trivia : 37\n",
      "Educational;Education : 35\n",
      "Board : 34\n",
      "Educational : 33\n",
      "Education;Education : 30\n",
      "Word : 23\n",
      "Casual;Pretend Play : 21\n",
      "Music : 18\n",
      "Racing;Action & Adventure : 15\n",
      "Puzzle;Brain Games : 15\n",
      "Entertainment;Music & Video : 15\n",
      "Casual;Brain Games : 12\n",
      "Casual;Action & Adventure : 12\n",
      "Arcade;Action & Adventure : 11\n",
      "Action;Action & Adventure : 9\n",
      "Educational;Pretend Play : 8\n",
      "Simulation;Action & Adventure : 7\n",
      "Parenting;Education : 7\n",
      "Entertainment;Brain Games : 7\n",
      "Board;Brain Games : 7\n",
      "Parenting;Music & Video : 6\n",
      "Educational;Brain Games : 6\n",
      "Casual;Creativity : 6\n",
      "Art & Design;Creativity : 6\n",
      "Education;Pretend Play : 5\n",
      "Role Playing;Pretend Play : 4\n",
      "Education;Creativity : 4\n",
      "Role Playing;Action & Adventure : 3\n",
      "Puzzle;Action & Adventure : 3\n",
      "Entertainment;Creativity : 3\n",
      "Entertainment;Action & Adventure : 3\n",
      "Educational;Creativity : 3\n",
      "Educational;Action & Adventure : 3\n",
      "Education;Music & Video : 3\n",
      "Education;Brain Games : 3\n",
      "Education;Action & Adventure : 3\n",
      "Adventure;Action & Adventure : 3\n",
      "Video Players & Editors;Music & Video : 2\n",
      "Sports;Action & Adventure : 2\n",
      "Simulation;Pretend Play : 2\n",
      "Puzzle;Creativity : 2\n",
      "Music;Music & Video : 2\n",
      "Entertainment;Pretend Play : 2\n",
      "Casual;Education : 2\n",
      "Board;Action & Adventure : 2\n",
      "Trivia;Education : 1\n",
      "Travel & Local;Action & Adventure : 1\n",
      "Tools;Education : 1\n",
      "Strategy;Education : 1\n",
      "Strategy;Creativity : 1\n",
      "Strategy;Action & Adventure : 1\n",
      "Simulation;Education : 1\n",
      "Role Playing;Brain Games : 1\n",
      "Racing;Pretend Play : 1\n",
      "Puzzle;Education : 1\n",
      "Parenting;Brain Games : 1\n",
      "Music & Audio;Music & Video : 1\n",
      "Lifestyle;Pretend Play : 1\n",
      "Lifestyle;Education : 1\n",
      "Health & Fitness;Education : 1\n",
      "Health & Fitness;Action & Adventure : 1\n",
      "Entertainment;Education : 1\n",
      "Communication;Creativity : 1\n",
      "Comics;Creativity : 1\n",
      "Casual;Music & Video : 1\n",
      "Card;Brain Games : 1\n",
      "Card;Action & Adventure : 1\n",
      "Books & Reference;Education : 1\n",
      "Art & Design;Pretend Play : 1\n",
      "Art & Design;Action & Adventure : 1\n",
      "Arcade;Pretend Play : 1\n",
      "Adventure;Education : 1\n"
     ]
    }
   ],
   "source": [
    "# Histogram/Frquency Table for the 'Genres' Column on Android:\n",
    "\n",
    "display_table(engFreeAndroid, 9)"
   ]
  },
  {
   "cell_type": "code",
   "execution_count": 34,
   "metadata": {
    "collapsed": false
   },
   "outputs": [
    {
     "name": "stdout",
     "output_type": "stream",
     "text": [
      "Games : 1874\n",
      "Entertainment : 254\n",
      "Photo & Video : 160\n",
      "Education : 118\n",
      "Social Networking : 106\n",
      "Shopping : 84\n",
      "Utilities : 81\n",
      "Sports : 69\n",
      "Music : 66\n",
      "Health & Fitness : 65\n",
      "Productivity : 56\n",
      "Lifestyle : 51\n",
      "News : 43\n",
      "Travel : 40\n",
      "Finance : 36\n",
      "Weather : 28\n",
      "Food & Drink : 26\n",
      "Reference : 18\n",
      "Business : 17\n",
      "Book : 14\n",
      "Navigation : 6\n",
      "Medical : 6\n",
      "Catalogs : 4\n"
     ]
    }
   ],
   "source": [
    "# Histogram/Frquency Table for the 'prime_genre' Column on Apple:\n",
    "\n",
    "display_table(engFreeApple, 11)"
   ]
  },
  {
   "cell_type": "markdown",
   "metadata": {},
   "source": [
    "Remember our data set only contains free English apps, so you should be careful not to extend your conclusions beyond that scope. If you find that gaming apps are the most numerous among the free English apps on Google Play, it doesn't mean we'll see the same pattern on Google Play as a whole."
   ]
  },
  {
   "cell_type": "markdown",
   "metadata": {},
   "source": [
    "Analyze the frequency table you generated for the prime_genre column of the App Store data set.\n",
    "- What is the most common genre? What is the runner-up?\n",
    "- What other patterns do you see?\n",
    "- What is the general impression — are most of the apps designed for practical purposes (education, shopping, utilities, productivity, lifestyle) or more for entertainment (games, photo and video, social networking, sports, music)?\n",
    "- Can you recommend an app profile for the App Store market based on this frequency table alone? If there's a large number of apps for a particular genre, does that also imply that apps of that genre generally have a large number of users?\n",
    "\n",
    "\n",
    "Analyze the frequency table you generated for the Category and Genres column of the Google Play data set.\n",
    "- What are the most common genres?\n",
    "- What other patterns do you see?\n",
    "- Compare the patterns you see for the Google Play market with those you saw for the App Store market.\n",
    "- Can you recommend an app profile based on what you found so far? Do the frequency tables you generated reveal the most frequent app genres or what genres have the most users?\n"
   ]
  },
  {
   "cell_type": "markdown",
   "metadata": {},
   "source": [
    "One way to find out what genres are the most popular (have the most users) is to calculate the average number of installs for each app genre. For the Google Play data set, we can find this information in the Installs column, but this information is missing for the App Store data set. As a workaround, we'll take the total number of user ratings as a proxy, which we can find in the rating_count_tot app."
   ]
  },
  {
   "cell_type": "code",
   "execution_count": 74,
   "metadata": {
    "collapsed": false
   },
   "outputs": [],
   "source": [
    "# Histogram/Frquency Table for the 'rating_count_tot' Column on Apple:\n",
    "# this is USELESS!!!\n",
    "\n",
    "# display_table(engFreeApple, 5)"
   ]
  },
  {
   "cell_type": "code",
   "execution_count": 71,
   "metadata": {
    "collapsed": false
   },
   "outputs": [
    {
     "name": "stdout",
     "output_type": "stream",
     "text": [
      "{'Social Networking': [], 'Photo & Video': [], 'Utilities': [], 'Navigation': [], 'News': [], 'Productivity': [], 'Reference': [], 'Lifestyle': [], 'Shopping': [], 'Sports': [], 'Book': [], 'Finance': [], 'Food & Drink': [], 'Catalogs': [], 'Travel': [], 'Education': [], 'Games': [], 'Entertainment': [], 'Health & Fitness': [], 'Music': [], 'Medical': [], 'Weather': [], 'Business': []}\n",
      "['300255638', 'ABC News - US & World News + Live Video', '98108416', 'USD', '0.0', '48407', '20', '3.0', '3.5', '5.16', '12+', 'News', '37', '0', '1', '0']\n"
     ]
    },
    {
     "data": {
      "text/plain": [
       "{'Book': 556619,\n",
       " 'Business': 127349,\n",
       " 'Catalogs': 16016,\n",
       " 'Education': 826470,\n",
       " 'Entertainment': 3563577,\n",
       " 'Finance': 1132846,\n",
       " 'Food & Drink': 866682,\n",
       " 'Games': 42705967,\n",
       " 'Health & Fitness': 1514371,\n",
       " 'Lifestyle': 840774,\n",
       " 'Medical': 3672,\n",
       " 'Music': 3783551,\n",
       " 'Navigation': 516542,\n",
       " 'News': 913665,\n",
       " 'Photo & Video': 4550647,\n",
       " 'Productivity': 1177591,\n",
       " 'Reference': 1348958,\n",
       " 'Shopping': 2261254,\n",
       " 'Social Networking': 7584125,\n",
       " 'Sports': 1587614,\n",
       " 'Travel': 1129752,\n",
       " 'Utilities': 1513441,\n",
       " 'Weather': 1463837}"
      ]
     },
     "execution_count": 71,
     "metadata": {},
     "output_type": "execute_result"
    }
   ],
   "source": [
    "# Calculating the average number of user ratings per app genre on the App Store.\n",
    "# as an indicator for what genres are the most popular.\n",
    "\n",
    "\n",
    "\n",
    "# First make d Dictionary with the Gernres:\n",
    "\n",
    "genreDict = {}\n",
    "\n",
    "for i in engFreeApple:\n",
    "    if i[11] not in genreDict :\n",
    "        genreDict[i[11]] = []\n",
    "\n",
    "print(genreDict)\n",
    "\n",
    "\n",
    "#  'Social Networking',\n",
    "#  'Photo & Video',\n",
    "#  'Games',\n",
    "#  'Music',\n",
    "#  'Reference',\n",
    "#  'Health & Fitness',\n",
    "#  'Weather',\n",
    "#  'Utilities',\n",
    "#  'Travel',\n",
    "#  'Shopping',\n",
    "#  'News',\n",
    "#  'Navigation',\n",
    "#  'Lifestyle',\n",
    "#  'Entertainment',\n",
    "#  'Food & Drink',\n",
    "#  'Sports',\n",
    "#  'Book',\n",
    "#  'Finance',\n",
    "#  'Education',\n",
    "#  'Productivity',\n",
    "#  'Business',\n",
    "#  'Catalogs',\n",
    "#  'Medical'\n",
    "\n",
    "\n",
    "\n",
    "# Then we Cluster the apps in our dictionary:\n",
    "\n",
    "for i in engFreeApple:\n",
    "    for j in genreDict:\n",
    "        if i[11] == j :\n",
    "            genreDict[j].append(i)\n",
    "\n",
    "print(genreDict['News'][5])\n",
    "\n",
    "\n",
    "# Then we sum up the user ratings for the apps in each genre in a new Dict:\n",
    "\n",
    "sumsDict = {}\n",
    "\n",
    "for i in genreDict:\n",
    "    sumsDict[i] = 0\n",
    "\n",
    "for i,j in genreDict.items():\n",
    "    for app in j:\n",
    "        sumsDict[i] += int(app[5])\n",
    "\n",
    "sumsDict"
   ]
  },
  {
   "cell_type": "code",
   "execution_count": 72,
   "metadata": {
    "collapsed": false
   },
   "outputs": [
    {
     "name": "stdout",
     "output_type": "stream",
     "text": [
      "86090 : Navigation\n",
      "74942 : Reference\n",
      "71548 : Social Networking\n",
      "57326 : Music\n",
      "52279 : Weather\n",
      "39758 : Book\n",
      "33333 : Food & Drink\n",
      "31467 : Finance\n",
      "28441 : Photo & Video\n",
      "28243 : Travel\n",
      "26919 : Shopping\n",
      "23298 : Health & Fitness\n",
      "23008 : Sports\n",
      "22788 : Games\n",
      "21248 : News\n",
      "21028 : Productivity\n",
      "18684 : Utilities\n",
      "16485 : Lifestyle\n",
      "14029 : Entertainment\n",
      "7491 : Business\n",
      "7003 : Education\n",
      "4004 : Catalogs\n",
      "612 : Medical\n"
     ]
    }
   ],
   "source": [
    "# Divide the sum by the number of apps belonging to that genre\n",
    "# not by the total number of apps & sorting the Dict as a list of tubles:\n",
    "\n",
    "\n",
    "appCounts = freqGen(engFreeApple, 11)\n",
    "\n",
    "appCounts\n",
    "\n",
    "\n",
    "# suum = 0\n",
    "# for i in appCounts:\n",
    "#     suum += appCounts[i]\n",
    "# suum==len(engFreeApple)\n",
    "\n",
    "\n",
    "for k in sumsDict:\n",
    "    sumsDict[k] = sumsDict[k] // appCounts[k]\n",
    "\n",
    "sumsDict\n",
    "\n",
    "\n",
    "\n",
    "# we sort!\n",
    "\n",
    "table_display = []\n",
    "\n",
    "for key in sumsDict:\n",
    "    key_val_as_tuple = (sumsDict[key], key)\n",
    "    table_display.append(key_val_as_tuple)\n",
    "\n",
    "table_sorted = sorted(table_display, reverse = True)\n",
    "\n",
    "for entry in table_sorted:\n",
    "    print(entry[0], ':', entry[1])"
   ]
  },
  {
   "cell_type": "code",
   "execution_count": 81,
   "metadata": {
    "collapsed": false
   },
   "outputs": [
    {
     "name": "stdout",
     "output_type": "stream",
     "text": [
      "1,000,000+ : 1396\n",
      "100,000+ : 1025\n",
      "10,000,000+ : 931\n",
      "10,000+ : 905\n",
      "1,000+ : 745\n",
      "100+ : 613\n",
      "5,000,000+ : 604\n",
      "500,000+ : 493\n",
      "50,000+ : 423\n",
      "5,000+ : 400\n",
      "10+ : 314\n",
      "500+ : 288\n",
      "50,000,000+ : 204\n",
      "100,000,000+ : 189\n",
      "50+ : 170\n",
      "5+ : 70\n",
      "1+ : 45\n",
      "500,000,000+ : 24\n",
      "1,000,000,000+ : 20\n",
      "0+ : 4\n",
      "0 : 1\n"
     ]
    }
   ],
   "source": [
    "# Histogram/Frquency Table for the 'Installs' Column on Android:\n",
    "\n",
    "display_table(engFreeAndroid, 5)"
   ]
  },
  {
   "cell_type": "code",
   "execution_count": 104,
   "metadata": {
    "collapsed": false,
    "scrolled": false
   },
   "outputs": [
    {
     "data": {
      "text/plain": [
       "{'0': 4,\n",
       " '1': 45,\n",
       " '10': 314,\n",
       " '100': 613,\n",
       " '1000': 745,\n",
       " '10000': 905,\n",
       " '100000': 1025,\n",
       " '1000000': 1396,\n",
       " '10000000': 931,\n",
       " '100000000': 189,\n",
       " '1000000000': 20,\n",
       " '5': 70,\n",
       " '50': 170,\n",
       " '500': 288,\n",
       " '5000': 400,\n",
       " '50000': 423,\n",
       " '500000': 493,\n",
       " '5000000': 604,\n",
       " '50000000': 204,\n",
       " '500000000': 24}"
      ]
     },
     "execution_count": 104,
     "metadata": {},
     "output_type": "execute_result"
    }
   ],
   "source": [
    "# Histogram/Frquency Table for the 'Category' Column on Android:\n",
    "\n",
    "# display_table(engFreeAndroid, 1)\n",
    "\n",
    "\n",
    "# lets Clean The Keys a little:\n",
    "\n",
    "andGenreDict = freqGen(engFreeAndroid,1)\n",
    "\n",
    "andInstallsDict = freqGen(engFreeAndroid,5)\n",
    "\n",
    "# engFreeAndroid[4][5]\n",
    "\n",
    "# andInstallsDict\n",
    "\n",
    "\n",
    "for key in list(andInstallsDict):\n",
    "    newKey = key.replace('+','').replace(',','')\n",
    "    andInstallsDict[newKey] = andInstallsDict.pop(key)\n",
    "    # this renames the key by creating a new one and deleting the old one!\n",
    "    # same as:\n",
    "        # dict[newKey] = dict[oldkey]\n",
    "        # del dict[oldKey]\n",
    "\n",
    "\n",
    "andInstallsDict    "
   ]
  },
  {
   "cell_type": "code",
   "execution_count": 121,
   "metadata": {
    "collapsed": false
   },
   "outputs": [
    {
     "name": "stdout",
     "output_type": "stream",
     "text": [
      "817657  :  COMICS\n",
      "1331540  :  HOUSE_AND_HOME\n",
      "5201482  :  PERSONALIZATION\n",
      "647317  :  AUTO_AND_VEHICLES\n",
      "1704192  :  BUSINESS\n",
      "253542  :  EVENTS\n",
      "638503  :  LIBRARIES_AND_DEMO\n",
      "107144  :  MEDICAL\n",
      "10801391  :  TOOLS\n",
      "4056941  :  MAPS_AND_NAVIGATION\n",
      "8767811  :  BOOKS_AND_REFERENCE\n",
      "13984077  :  TRAVEL_AND_LOCAL\n",
      "12914435  :  GAME\n",
      "9549178  :  NEWS_AND_MAGAZINES\n",
      "1924897  :  FOOD_AND_DRINK\n",
      "7036877  :  SHOPPING\n",
      "1768500  :  EDUCATION\n",
      "1437816  :  LIFESTYLE\n",
      "5074486  :  WEATHER\n",
      "1986335  :  ART_AND_DESIGN\n",
      "4274688  :  SPORTS\n",
      "16772838  :  PRODUCTIVITY\n",
      "542603  :  PARENTING\n",
      "38326063  :  COMMUNICATION\n",
      "4167457  :  HEALTH_AND_FITNESS\n",
      "513151  :  BEAUTY\n",
      "854028  :  DATING\n",
      "1387692  :  FINANCE\n",
      "17840110  :  PHOTOGRAPHY\n",
      "23253652  :  SOCIAL\n",
      "24790074  :  VIDEO_PLAYERS\n",
      "9146923  :  ENTERTAINMENT\n",
      "5180161  :  FAMILY\n"
     ]
    },
    {
     "data": {
      "text/plain": [
       "{107144: 'MEDICAL',\n",
       " 253542: 'EVENTS',\n",
       " 513151: 'BEAUTY',\n",
       " 542603: 'PARENTING',\n",
       " 638503: 'LIBRARIES_AND_DEMO',\n",
       " 647317: 'AUTO_AND_VEHICLES',\n",
       " 817657: 'COMICS',\n",
       " 854028: 'DATING',\n",
       " 1331540: 'HOUSE_AND_HOME',\n",
       " 1387692: 'FINANCE',\n",
       " 1437816: 'LIFESTYLE',\n",
       " 1704192: 'BUSINESS',\n",
       " 1768500: 'EDUCATION',\n",
       " 1924897: 'FOOD_AND_DRINK',\n",
       " 1986335: 'ART_AND_DESIGN',\n",
       " 4056941: 'MAPS_AND_NAVIGATION',\n",
       " 4167457: 'HEALTH_AND_FITNESS',\n",
       " 4274688: 'SPORTS',\n",
       " 5074486: 'WEATHER',\n",
       " 5180161: 'FAMILY',\n",
       " 5201482: 'PERSONALIZATION',\n",
       " 7036877: 'SHOPPING',\n",
       " 8767811: 'BOOKS_AND_REFERENCE',\n",
       " 9146923: 'ENTERTAINMENT',\n",
       " 9549178: 'NEWS_AND_MAGAZINES',\n",
       " 10801391: 'TOOLS',\n",
       " 12914435: 'GAME',\n",
       " 13984077: 'TRAVEL_AND_LOCAL',\n",
       " 16772838: 'PRODUCTIVITY',\n",
       " 17840110: 'PHOTOGRAPHY',\n",
       " 23253652: 'SOCIAL',\n",
       " 24790074: 'VIDEO_PLAYERS',\n",
       " 38326063: 'COMMUNICATION'}"
      ]
     },
     "execution_count": 121,
     "metadata": {},
     "output_type": "execute_result"
    }
   ],
   "source": [
    "# Here we do it all in one nested loop:\n",
    "\n",
    "andGenreDict = freqGen(engFreeAndroid,1)\n",
    "myDict={}\n",
    "for category in andGenreDict:\n",
    "    sumInstalls = 0\n",
    "    appCount    = 0\n",
    "    for app in engFreeAndroid:\n",
    "        if app[1] == category:\n",
    "            sumInstalls += int(app[5].replace('+','').replace(',',''))\n",
    "            appCount += 1\n",
    "    myDict[sumInstalls//appCount] = category\n",
    "    print((sumInstalls//appCount) , ' : ' , category)\n",
    "myDict"
   ]
  },
  {
   "cell_type": "code",
   "execution_count": 123,
   "metadata": {
    "collapsed": false
   },
   "outputs": [
    {
     "name": "stdout",
     "output_type": "stream",
     "text": [
      "arg1: two\n",
      "arg2: 3\n",
      "arg3: 5\n"
     ]
    }
   ],
   "source": [
    "def test_args_kwargs(arg1, arg2, arg3):\n",
    "    print(\"arg1:\", arg1)\n",
    "    print(\"arg2:\", arg2)\n",
    "    print(\"arg3:\", arg3)\n",
    "args = (\"two\", 3, 5)\n",
    "test_args_kwargs(*args)"
   ]
  }
 ],
 "metadata": {
  "kernelspec": {
   "display_name": "Python 3",
   "language": "python",
   "name": "python3"
  },
  "language_info": {
   "codemirror_mode": {
    "name": "ipython",
    "version": 3
   },
   "file_extension": ".py",
   "mimetype": "text/x-python",
   "name": "python",
   "nbconvert_exporter": "python",
   "pygments_lexer": "ipython3",
   "version": "3.4.3"
  }
 },
 "nbformat": 4,
 "nbformat_minor": 2
}
