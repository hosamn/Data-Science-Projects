{
 "cells": [
  {
   "cell_type": "markdown",
   "metadata": {},
   "source": [
    "# Hacker News Project\n",
    "\n",
    "### We'll compare these two types of posts to determine the following:\n",
    "\n",
    "* Do `Ask HN` or `Show HN` receive more comments on average?\n",
    "* Do posts created at a certain time receive more comments on average?\n",
    "\n",
    "\n",
    "### Table Headers :\n",
    "\n",
    "0. _id_ : post unique identifier from Hacker News\n",
    "1. _title_ : title of the post\n",
    "2. _url_ : URL of the post\n",
    "3. _num-points_ : number of points, upvotes minus downvotes\n",
    "4. _num-comments_ : The number of comments on the post\n",
    "5. _author_ : The username who submitted the post\n",
    "6. _created-at_ : The date and time the post was submitted"
   ]
  },
  {
   "cell_type": "code",
   "execution_count": 1,
   "metadata": {
    "collapsed": false
   },
   "outputs": [],
   "source": [
    "import csv\n",
    "import datetime as dt"
   ]
  },
  {
   "cell_type": "code",
   "execution_count": 2,
   "metadata": {
    "collapsed": false
   },
   "outputs": [
    {
     "name": "stdout",
     "output_type": "stream",
     "text": [
      "['id', 'title', 'url', 'num_points', 'num_comments', 'author', 'created_at']\n",
      "[['12224879', 'Interactive Dynamic Video', 'http://www.interactivedynamicvideo.com/', '386', '52', 'ne0phyte', '8/4/2016 11:52'], ['10975351', 'How to Use Open Source and Shut the Fuck Up at the Same Time', 'http://hueniverse.com/2016/01/26/how-to-use-open-source-and-shut-the-fuck-up-at-the-same-time/', '39', '10', 'josep2', '1/26/2016 19:30']]\n",
      "20100\n"
     ]
    }
   ],
   "source": [
    "with open('hacker_news.csv') as f:\n",
    "    hn_data = list(csv.reader(f))\n",
    "    \n",
    "headers = hn_data.pop(0)\n",
    "print(headers)\n",
    "print(hn_data[0:2])\n",
    "print(len(hn_data))"
   ]
  },
  {
   "cell_type": "code",
   "execution_count": 3,
   "metadata": {
    "collapsed": false
   },
   "outputs": [
    {
     "name": "stdout",
     "output_type": "stream",
     "text": [
      "1744\n",
      "1162\n",
      "17194\n",
      "20100\n"
     ]
    }
   ],
   "source": [
    "ask_posts  = [i for i in hn_data if i[1].lower().startswith('ask hn')]\n",
    "show_posts = [i for i in hn_data if i[1].lower().startswith('show hn')]\n",
    "othr_posts = [i for i in hn_data if not i[1].lower().startswith('show hn') and not i[1].lower().startswith('ask hn')]\n",
    "\n",
    "print(len(ask_posts ))\n",
    "print(len(show_posts))\n",
    "print(len(othr_posts))\n",
    "print(len(ask_posts)+len(show_posts)+len(othr_posts))"
   ]
  },
  {
   "cell_type": "code",
   "execution_count": 4,
   "metadata": {
    "collapsed": false
   },
   "outputs": [
    {
     "name": "stdout",
     "output_type": "stream",
     "text": [
      "24483\n",
      "14.038417431192661\n",
      "11988\n",
      "10.31669535283993\n",
      "462055\n",
      "26.8730371059672\n"
     ]
    }
   ],
   "source": [
    "total_ask_comments = sum([int(i[4]) for i in ask_posts])\n",
    "averg_ask_comments = total_ask_comments / len(ask_posts)\n",
    "\n",
    "total_show_comments = sum([int(i[4]) for i in show_posts])\n",
    "averg_show_comments = total_show_comments / len(show_posts)\n",
    "\n",
    "total_othr_comments = sum([int(i[4]) for i in othr_posts])\n",
    "averg_othr_comments = total_othr_comments / len(othr_posts)\n",
    "\n",
    "print(total_ask_comments)\n",
    "print(averg_ask_comments)\n",
    "\n",
    "print(total_show_comments)\n",
    "print(averg_show_comments)\n",
    "\n",
    "print(total_othr_comments)\n",
    "print(averg_othr_comments)\n"
   ]
  },
  {
   "cell_type": "markdown",
   "metadata": {},
   "source": [
    "From the numbers above, we can see that ask and show posts recieve ***less*** comments. than other posts,\n",
    "\n",
    "and ask posts recieve ***more*** comments than show posts"
   ]
  },
  {
   "cell_type": "markdown",
   "metadata": {},
   "source": [
    "## determine if ask posts created at a certain time are more likely to attract comments\n",
    "\n",
    "\n",
    "* Calculate the amount of ask posts created in each hour of the day, along with the number of comments received.\n",
    "* Calculate the average number of comments ask posts receive by hour created.\n"
   ]
  },
  {
   "cell_type": "code",
   "execution_count": 5,
   "metadata": {
    "collapsed": false
   },
   "outputs": [
    {
     "name": "stdout",
     "output_type": "stream",
     "text": [
      "['id', 'title', 'url', 'num_points', 'num_comments', 'author', 'created_at']\n",
      "['12296411', 'Ask HN: How to improve my personal website?', '', '2', '6', 'ahmedbaracat', '8/16/2016 9:55']\n"
     ]
    }
   ],
   "source": [
    "print(headers)\n",
    "print(ask_posts[0])"
   ]
  },
  {
   "cell_type": "code",
   "execution_count": 6,
   "metadata": {
    "collapsed": false
   },
   "outputs": [],
   "source": [
    "for i in ask_posts:\n",
    "    i[6] = dt.datetime.strptime(i[6],'%m/%d/%Y %H:%M')"
   ]
  },
  {
   "cell_type": "code",
   "execution_count": 7,
   "metadata": {
    "collapsed": false
   },
   "outputs": [
    {
     "name": "stdout",
     "output_type": "stream",
     "text": [
      "{0: [], 1: [], 2: [], 3: [], 4: [], 5: [], 6: [], 7: [], 8: [], 9: [], 10: [], 11: [], 12: [], 13: [], 14: [], 15: [], 16: [], 17: [], 18: [], 19: [], 20: [], 21: [], 22: [], 23: []}\n",
      "24\n"
     ]
    }
   ],
   "source": [
    "# creating empty dic with day hours as keys\n",
    "\n",
    "posts_per_hour = {i:[] for i in range(24)}\n",
    "\n",
    "print(posts_per_hour)\n",
    "print(len(posts_per_hour))"
   ]
  },
  {
   "cell_type": "code",
   "execution_count": 8,
   "metadata": {
    "collapsed": false,
    "scrolled": true
   },
   "outputs": [],
   "source": [
    "for post in ask_posts:\n",
    "    posts_per_hour[post[6].hour].append(post)"
   ]
  },
  {
   "cell_type": "code",
   "execution_count": 9,
   "metadata": {
    "collapsed": false
   },
   "outputs": [
    {
     "name": "stdout",
     "output_type": "stream",
     "text": [
      "55\n",
      "24\n"
     ]
    }
   ],
   "source": [
    "print(len(posts_per_hour[0]))\n",
    "print(len(posts_per_hour))"
   ]
  },
  {
   "cell_type": "code",
   "execution_count": 10,
   "metadata": {
    "collapsed": false,
    "scrolled": true
   },
   "outputs": [
    {
     "name": "stdout",
     "output_type": "stream",
     "text": [
      "Amount of posts for each hour:\n",
      "0  >>>  55\n",
      "1  >>>  60\n",
      "2  >>>  58\n",
      "3  >>>  54\n",
      "4  >>>  47\n",
      "5  >>>  46\n",
      "6  >>>  44\n",
      "7  >>>  34\n",
      "8  >>>  48\n",
      "9  >>>  45\n",
      "10  >>>  59\n",
      "11  >>>  58\n",
      "12  >>>  73\n",
      "13  >>>  85\n",
      "14  >>>  107\n",
      "15  >>>  116\n",
      "16  >>>  108\n",
      "17  >>>  100\n",
      "18  >>>  109\n",
      "19  >>>  110\n",
      "20  >>>  80\n",
      "21  >>>  109\n",
      "22  >>>  71\n",
      "23  >>>  68\n",
      "\n",
      "Total comments for each hour:\n",
      "0  >>>  447\n",
      "1  >>>  683\n",
      "2  >>>  1381\n",
      "3  >>>  421\n",
      "4  >>>  337\n",
      "5  >>>  464\n",
      "6  >>>  397\n",
      "7  >>>  267\n",
      "8  >>>  492\n",
      "9  >>>  251\n",
      "10  >>>  793\n",
      "11  >>>  641\n",
      "12  >>>  687\n",
      "13  >>>  1253\n",
      "14  >>>  1416\n",
      "15  >>>  4477\n",
      "16  >>>  1814\n",
      "17  >>>  1146\n",
      "18  >>>  1439\n",
      "19  >>>  1188\n",
      "20  >>>  1722\n",
      "21  >>>  1745\n",
      "22  >>>  479\n",
      "23  >>>  543\n",
      "\n",
      "Avg number of comments ask posts receive by hour created:\n",
      "00 >>> 8.13\n",
      "01 >>> 11.38\n",
      "02 >>> 23.81\n",
      "03 >>> 7.80\n",
      "04 >>> 7.17\n",
      "05 >>> 10.09\n",
      "06 >>> 9.02\n",
      "07 >>> 7.85\n",
      "08 >>> 10.25\n",
      "09 >>> 5.58\n",
      "10 >>> 13.44\n",
      "11 >>> 11.05\n",
      "12 >>> 9.41\n",
      "13 >>> 14.74\n",
      "14 >>> 13.23\n",
      "15 >>> 38.59\n",
      "16 >>> 16.80\n",
      "17 >>> 11.46\n",
      "18 >>> 13.20\n",
      "19 >>> 10.80\n",
      "20 >>> 21.52\n",
      "21 >>> 16.01\n",
      "22 >>> 6.75\n",
      "23 >>> 7.99\n"
     ]
    }
   ],
   "source": [
    "count_posts_per_hour = {i:[] for i in range(24)}\n",
    "tot_comment_per_hour = {i:[] for i in range(24)}\n",
    "\n",
    "for hour,posts in posts_per_hour.items():\n",
    "    \n",
    "    count_posts_per_hour[hour] = len(posts)\n",
    "    \n",
    "    tot_comment_per_hour[hour] = sum([int(post[4]) for post in posts])\n",
    "\n",
    "\n",
    "print('Amount of posts for each hour:')\n",
    "for i in count_posts_per_hour: print(i, ' >>> ', count_posts_per_hour[i])\n",
    "\n",
    "print('\\nTotal comments for each hour:')\n",
    "for i in tot_comment_per_hour:print(i, ' >>> ', tot_comment_per_hour[i])\n",
    "\n",
    "print('\\nAvg number of comments ask posts receive by hour created:')\n",
    "for i in tot_comment_per_hour:print('{:02d} >>> {:.2f}'.format(i, tot_comment_per_hour[i]/count_posts_per_hour[i]))"
   ]
  },
  {
   "cell_type": "code",
   "execution_count": 11,
   "metadata": {
    "collapsed": false,
    "scrolled": true
   },
   "outputs": [
    {
     "data": {
      "image/png": "[encoded data removed]",
      "text/plain": [
       "<matplotlib.figure.Figure at 0x7fe2de70c668>"
      ]
     },
     "metadata": {},
     "output_type": "display_data"
    }
   ],
   "source": [
    "%matplotlib inline  \n",
    "import matplotlib.pyplot as plt\n",
    "\n",
    "\n",
    "avg_by_hour = {}\n",
    "for i in tot_comment_per_hour:\n",
    "    avg_by_hour[i] = tot_comment_per_hour[i]/count_posts_per_hour[i]\n",
    "\n",
    "\n",
    "pl = plt.bar(avg_by_hour, avg_by_hour.values())"
   ]
  },
  {
   "cell_type": "code",
   "execution_count": 12,
   "metadata": {
    "collapsed": false
   },
   "outputs": [],
   "source": [
    "lol = sorted(\n",
    "               [  [v, k] for k,v in avg_by_hour.items()  ],\n",
    "    \n",
    "               reverse = True\n",
    "            )"
   ]
  },
  {
   "cell_type": "code",
   "execution_count": 13,
   "metadata": {
    "collapsed": false,
    "scrolled": true
   },
   "outputs": [
    {
     "name": "stdout",
     "output_type": "stream",
     "text": [
      "Top 5 Hours for Ask Posts Comments:\n"
     ]
    },
    {
     "data": {
      "text/plain": [
       "[15, 2, 20, 16, 21]"
      ]
     },
     "execution_count": 13,
     "metadata": {},
     "output_type": "execute_result"
    }
   ],
   "source": [
    "print(\"Top 5 Hours for Ask Posts Comments:\")\n",
    "[i[1] for i in lol[:5]]"
   ]
  },
  {
   "cell_type": "code",
   "execution_count": 14,
   "metadata": {
    "collapsed": false
   },
   "outputs": [
    {
     "name": "stdout",
     "output_type": "stream",
     "text": [
      "15:00  :  38.59 average comments per post\n",
      "02:00  :  23.81 average comments per post\n",
      "20:00  :  21.52 average comments per post\n",
      "16:00  :  16.80 average comments per post\n",
      "21:00  :  16.01 average comments per post\n",
      "13:00  :  14.74 average comments per post\n",
      "10:00  :  13.44 average comments per post\n",
      "14:00  :  13.23 average comments per post\n",
      "18:00  :  13.20 average comments per post\n",
      "17:00  :  11.46 average comments per post\n",
      "01:00  :  11.38 average comments per post\n",
      "11:00  :  11.05 average comments per post\n",
      "19:00  :  10.80 average comments per post\n",
      "08:00  :  10.25 average comments per post\n",
      "05:00  :  10.09 average comments per post\n",
      "12:00  :  9.41 average comments per post\n",
      "06:00  :  9.02 average comments per post\n",
      "00:00  :  8.13 average comments per post\n",
      "23:00  :  7.99 average comments per post\n",
      "07:00  :  7.85 average comments per post\n",
      "03:00  :  7.80 average comments per post\n",
      "04:00  :  7.17 average comments per post\n",
      "22:00  :  6.75 average comments per post\n",
      "09:00  :  5.58 average comments per post\n"
     ]
    }
   ],
   "source": [
    "for i in lol:\n",
    "    print(\n",
    "        dt.datetime(2020,1,1,i[1]).strftime('%H:%M') +\n",
    "        '  :  {:.2f} average comments per post'.format(i[0])\n",
    "    )"
   ]
  },
  {
   "cell_type": "markdown",
   "metadata": {},
   "source": [
    "### It can be clearly seen that posting at 3:00 pm is the best shot :)"
   ]
  }
 ],
 "metadata": {
  "kernelspec": {
   "display_name": "Python 3",
   "language": "python",
   "name": "python3"
  },
  "language_info": {
   "codemirror_mode": {
    "name": "ipython",
    "version": 3
   },
   "file_extension": ".py",
   "mimetype": "text/x-python",
   "name": "python",
   "nbconvert_exporter": "python",
   "pygments_lexer": "ipython3",
   "version": "3.4.3"
  }
 },
 "nbformat": 4,
 "nbformat_minor": 2
}
